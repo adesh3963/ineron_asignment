{
 "cells": [
  {
   "cell_type": "markdown",
   "metadata": {},
   "source": [
    "### Question 1\n",
    "\n",
    "Given an array of intervals where intervals[i] = [starti, endi], merge all overlapping intervals, and return an array of the non-overlapping intervals that cover all the intervals in the input."
   ]
  },
  {
   "cell_type": "raw",
   "metadata": {},
   "source": [
    "Input: intervals = [[1,3],[2,6],[8,10],[15,18]]\n",
    "Output: [[1,6],[8,10],[15,18]]\n",
    "Explanation: Since intervals [1,3] and [2,6] overlap, merge them into [1,6].\n"
   ]
  },
  {
   "cell_type": "code",
   "execution_count": 6,
   "metadata": {},
   "outputs": [],
   "source": [
    "#trying stack property\n",
    "def overlapIntervals(arr):\n",
    "    stack = []\n",
    "    for e in arr:\n",
    "        if stack:\n",
    "            stack_ele = stack[-1]\n",
    "            #collaps when\n",
    "            if stack_ele[1] >= e[0]:\n",
    "                stack.pop()\n",
    "                stack.append([stack_ele[0],e[1]])\n",
    "            else:\n",
    "                stack.append(e)\n",
    "        else:\n",
    "            stack.append(e)\n",
    "    return stack"
   ]
  },
  {
   "cell_type": "code",
   "execution_count": 8,
   "metadata": {},
   "outputs": [
    {
     "data": {
      "text/plain": [
       "[[1, 6], [8, 10], [15, 20]]"
      ]
     },
     "execution_count": 8,
     "metadata": {},
     "output_type": "execute_result"
    }
   ],
   "source": [
    "overlapIntervals([[1,3],[2,6],[8,10],[15,18],[17,20]])"
   ]
  },
  {
   "cell_type": "markdown",
   "metadata": {},
   "source": [
    "### Question 2\n",
    "Given an array `nums` with `n` objects colored red, white, or blue, sort them **[in-place](https://en.wikipedia.org/wiki/In-place_algorithm)** so that objects of the same color are adjacent, with the colors in the order red, white, and blue.\n",
    "\n",
    "We will use the integers `0`, `1`, and `2` to represent the color red, white, and blue, respectively.\n",
    "\n",
    "You must solve this problem without using the library's sort function."
   ]
  },
  {
   "cell_type": "markdown",
   "metadata": {},
   "source": [
    "Input: nums = [2,0,2,1,1,0]\n",
    "Output: [0,0,1,1,2,2]"
   ]
  },
  {
   "cell_type": "code",
   "execution_count": 14,
   "metadata": {},
   "outputs": [
    {
     "data": {
      "text/plain": [
       "[0, 0, 1, 1, 2, 2]"
      ]
     },
     "execution_count": 14,
     "metadata": {},
     "output_type": "execute_result"
    }
   ],
   "source": [
    "# using bubble sort\n",
    "def bubble_sort(arr):\n",
    "    for i in range(len(arr)):\n",
    "        for j in range(0,len(arr)-1-i):\n",
    "            if arr[j]> arr[j+1]:\n",
    "                #swap\n",
    "                arr[j],arr[j+1]= arr[j+1],arr[j]\n",
    "    return arr\n",
    "\n",
    "bubble_sort([2,0,2,1,1,0])\n",
    "                "
   ]
  },
  {
   "cell_type": "raw",
   "metadata": {},
   "source": [
    "TC : o(n^2)"
   ]
  },
  {
   "cell_type": "code",
   "execution_count": 16,
   "metadata": {},
   "outputs": [
    {
     "data": {
      "text/plain": [
       "[0, 0, 1, 1, 2, 2]"
      ]
     },
     "execution_count": 16,
     "metadata": {},
     "output_type": "execute_result"
    }
   ],
   "source": [
    "## another approach\n",
    "def sort_colours(arr):\n",
    "    count_0 = 0\n",
    "    count_1 = 0\n",
    "    count_2 = 0\n",
    "    for i in arr:\n",
    "        if i == 0:\n",
    "            count_0 += 1\n",
    "        elif i == 1:\n",
    "            count_1 += 1\n",
    "        else:\n",
    "            count_2 += 1\n",
    "    i = 0\n",
    "    while i < count_0:\n",
    "        arr[i]= 0\n",
    "        i +=1\n",
    "    while i < count_0+count_1:\n",
    "        arr[i] = 1\n",
    "        i += 1\n",
    "    while i < count_0+ count_1 + count_2:\n",
    "        arr[i] = 2\n",
    "        i += 1\n",
    "    return arr\n",
    "\n",
    "sort_colours([2,0,2,1,1,0])"
   ]
  },
  {
   "cell_type": "raw",
   "metadata": {},
   "source": [
    "TC : o(N)"
   ]
  },
  {
   "cell_type": "markdown",
   "metadata": {},
   "source": [
    "### Question 3\n",
    "\n",
    "<aside>\n",
    "💡 **First Bad Version Solution**\n",
    "\n",
    "You are a product manager and currently leading a team to develop a new product. Unfortunately, the latest version of your product fails the quality check. Since each version is developed based on the previous version, all the versions after a bad version are also bad.\n",
    "\n",
    "Suppose you have `n` versions `[1, 2, ..., n]` and you want to find out the first bad one, which causes all the following ones to be bad.\n",
    "\n",
    "You are given an API `bool isBadVersion(version)` which returns whether `version` is bad. Implement a function to find the first bad version. You should minimize the number of calls to the API.\n",
    "\n",
    "</aside>"
   ]
  },
  {
   "cell_type": "raw",
   "metadata": {},
   "source": [
    "Input: n = 5, bad = 4\n",
    "Output: 4\n",
    "Explanation:\n",
    "call isBadVersion(3) -> false\n",
    "call isBadVersion(5) -> true\n",
    "call isBadVersion(4) -> true\n",
    "Then 4 is the first bad version.\n"
   ]
  },
  {
   "cell_type": "code",
   "execution_count": 25,
   "metadata": {},
   "outputs": [
    {
     "data": {
      "text/plain": [
       "9"
      ]
     },
     "execution_count": 25,
     "metadata": {},
     "output_type": "execute_result"
    }
   ],
   "source": [
    "lis = [1,1,1,1,1,1,1,1,1,0,0,0,0]\n",
    "def badVersion(lis):\n",
    "    left = 0\n",
    "    right = len(lis)-1\n",
    "    while left <= right:\n",
    "        mid = (left + right)//2\n",
    "        if lis[mid]== 1:\n",
    "            # we are in good zone \n",
    "            # bad product lies right side\n",
    "            left= mid + 1\n",
    "        if lis[mid]== 0:\n",
    "            #check privious\n",
    "            right = mid\n",
    "\n",
    "        if lis[right]== 0 and lis[left]==0:\n",
    "            return left\n",
    "#returns bad version starting index\n",
    "badVersion(lis)"
   ]
  },
  {
   "cell_type": "markdown",
   "metadata": {},
   "source": [
    "### Question 4\n",
    "\n",
    "<aside>\n",
    "💡 4. **Maximum Gap**\n",
    "\n",
    "Given an integer array `nums`, return *the maximum difference between two successive elements in its sorted form*. If the array contains less than two elements, return `0`.\n",
    "\n",
    "You must write an algorithm that runs in linear time and uses linear extra space.\n",
    "\n",
    "</aside>"
   ]
  },
  {
   "cell_type": "code",
   "execution_count": 58,
   "metadata": {},
   "outputs": [
    {
     "data": {
      "text/plain": [
       "2"
      ]
     },
     "execution_count": 58,
     "metadata": {},
     "output_type": "execute_result"
    }
   ],
   "source": [
    "## peggion hole sorting\n",
    "\n",
    "def MaximumGap(lis):\n",
    "    #finding min and max\n",
    "    if len(lis)<=1:\n",
    "        return 0\n",
    "    min_ = min(lis)\n",
    "    max_ = max(lis)\n",
    "    peigonholes = [0]*(max_-min_+ 1)\n",
    "    \n",
    "    for e in lis:\n",
    "        diff = e- min_\n",
    "        peigonholes[diff] += 1\n",
    "    #print(peigonholes)\n",
    "    # sort the arry\n",
    "    idx = 0\n",
    "    for i in range(len(peigonholes)):\n",
    "        count = peigonholes[i]\n",
    "        while count> 0:\n",
    "            lis[idx]= i + min_\n",
    "            #print(i+min_)\n",
    "            idx += 1\n",
    "            count -= 1\n",
    "            \n",
    "    #print(lis)\n",
    "    #get the difference\n",
    "    max_gp = 0\n",
    "    for i in range(1,len(lis)):\n",
    "        diff = lis[i] - lis[i-1]\n",
    "        max_gp = max(diff,max_gp)\n",
    "        \n",
    "    return max_gp\n",
    "    \n",
    "    \n",
    "    \n",
    "MaximumGap([8, 3, 2, 7, 4, 6, 8])"
   ]
  },
  {
   "cell_type": "code",
   "execution_count": 59,
   "metadata": {},
   "outputs": [
    {
     "data": {
      "text/plain": [
       "0"
      ]
     },
     "execution_count": 59,
     "metadata": {},
     "output_type": "execute_result"
    }
   ],
   "source": [
    "MaximumGap([6,6])"
   ]
  },
  {
   "cell_type": "markdown",
   "metadata": {},
   "source": [
    "### Question 5\n",
    "<aside>\n",
    "💡 5. **Contains Duplicate**\n",
    "\n",
    "Given an integer array `nums`, return `true` if any value appears **at least twice** in the array, and return `false` if every element is distinct.\n",
    "\n",
    "</aside>"
   ]
  },
  {
   "cell_type": "raw",
   "metadata": {},
   "source": [
    "Input: nums = [1,2,3,1]\n",
    "Output: true\n",
    "Input: nums = [1,2,3,4]\n",
    "Output: false"
   ]
  },
  {
   "cell_type": "code",
   "execution_count": 61,
   "metadata": {},
   "outputs": [
    {
     "data": {
      "text/plain": [
       "True"
      ]
     },
     "execution_count": 61,
     "metadata": {},
     "output_type": "execute_result"
    }
   ],
   "source": [
    "### brute force\n",
    "def checkDuplicate(arr):\n",
    "    for i in range(len(arr)):\n",
    "        for j in range(i+1,len(arr)):\n",
    "            if arr[i] == arr[j]:\n",
    "                return True\n",
    "    return False\n",
    "checkDuplicate([1,2,3,1])"
   ]
  },
  {
   "cell_type": "raw",
   "metadata": {},
   "source": [
    "TC : O(n^2)"
   ]
  },
  {
   "cell_type": "code",
   "execution_count": 63,
   "metadata": {},
   "outputs": [],
   "source": [
    "### use a sorting algo\n",
    "\n",
    "def checkDuplicateWithSorting(arr):\n",
    "    arr.sort()\n",
    "    ## now check the adjuscent diff\n",
    "    for i in range(1,len(arr)):\n",
    "        diff = arr[i]- arr[i-1]\n",
    "        if diff == 0:\n",
    "            return True\n",
    "    else:\n",
    "        return False\n",
    "\n",
    "## TC will depand on type of sort algo + O(n)"
   ]
  },
  {
   "cell_type": "code",
   "execution_count": 68,
   "metadata": {},
   "outputs": [
    {
     "data": {
      "text/plain": [
       "True"
      ]
     },
     "execution_count": 68,
     "metadata": {},
     "output_type": "execute_result"
    }
   ],
   "source": [
    "checkDuplicateWithSorting([1,2,3,1])"
   ]
  },
  {
   "cell_type": "code",
   "execution_count": 69,
   "metadata": {},
   "outputs": [
    {
     "data": {
      "text/plain": [
       "True"
      ]
     },
     "execution_count": 69,
     "metadata": {},
     "output_type": "execute_result"
    }
   ],
   "source": [
    "### use a  map\n",
    "def checkDuplicateWithMap(arr):\n",
    "    dic = {}\n",
    "    for e in arr:\n",
    "        if e in dic:\n",
    "            return True\n",
    "        else:\n",
    "            dic[e] = True\n",
    "    else:\n",
    "        return False\n",
    "    \n",
    "checkDuplicateWithMap([1,2,3,1])"
   ]
  },
  {
   "cell_type": "markdown",
   "metadata": {},
   "source": [
    "### Question 6\n",
    "There are some spherical balloons taped onto a flat wall that represents the XY-plane. The balloons are represented as a 2D integer array `points` where `points[i] = [xstart, xend]` denotes a balloon whose **horizontal diameter** stretches between `xstart` and `xend`. You do not know the exact y-coordinates of the balloons.\n",
    "\n",
    "Arrows can be shot up **directly vertically** (in the positive y-direction) from different points along the x-axis. A balloon with `xstart` and `xend` is **burst** by an arrow shot at `x` if `xstart <= x <= xend`. There is **no limit** to the number of arrows that can be shot. A shot arrow keeps traveling up infinitely, bursting any balloons in its path.\n",
    "\n",
    "Given the array `points`, return *the **minimum** number of arrows that must be shot to burst all balloons*."
   ]
  },
  {
   "cell_type": "raw",
   "metadata": {},
   "source": [
    "Input: points = [[10,16],[2,8],[1,6],[7,12]]\n",
    "Output: 2\n",
    "Explanation: The balloons can be burst by 2 arrows:\n",
    "- Shoot an arrow at x = 6, bursting the balloons [2,8] and [1,6].\n",
    "- Shoot an arrow at x = 11, bursting the balloons [10,16] and [7,12].\n"
   ]
  },
  {
   "cell_type": "code",
   "execution_count": 78,
   "metadata": {},
   "outputs": [
    {
     "data": {
      "text/plain": [
       "2"
      ]
     },
     "execution_count": 78,
     "metadata": {},
     "output_type": "execute_result"
    }
   ],
   "source": [
    "## tried to solve this on leetcode and passed all test cases :)\n",
    "class Solution:\n",
    "    def findMinArrowShots(self, points) -> int:\n",
    "        ## lets sort this list first by end points\n",
    "        points= sorted(points,key = lambda x : x[1])\n",
    "        arrow = 1\n",
    "        end = points[0][1]\n",
    "        for i in range(len(points)):\n",
    "            if points[i][0] <= end :\n",
    "                continue\n",
    "            else:\n",
    "                arrow += 1\n",
    "                end = points[i][1]\n",
    "\n",
    "        return arrow\n",
    "        \n",
    "s = Solution()\n",
    "s.findMinArrowShots([[10,16],[2,8],[1,6],[7,12]])"
   ]
  },
  {
   "cell_type": "markdown",
   "metadata": {},
   "source": [
    "### Question 7\n",
    "Given an integer array `nums`, return *the length of the longest **strictly increasing***\n",
    "\n",
    "***subsequence***"
   ]
  },
  {
   "cell_type": "code",
   "execution_count": 132,
   "metadata": {},
   "outputs": [],
   "source": [
    "### brute force\n",
    "# find all sebsequences\n",
    "# sort them by length\n",
    "# iterate form last and check if sorted or not"
   ]
  },
  {
   "cell_type": "code",
   "execution_count": 131,
   "metadata": {
    "scrolled": true
   },
   "outputs": [
    {
     "name": "stdout",
     "output_type": "stream",
     "text": [
      "[0, 2, 3, 5]\n"
     ]
    }
   ],
   "source": [
    "def sub(s,out,i,ans):\n",
    "    if i >= len(s):\n",
    "        \n",
    "        ans.append(out)\n",
    "        return\n",
    "    \n",
    "    sub(s,out,i+1,ans)\n",
    "    \n",
    "    sub(s,out+[s[i]],i+1,ans)\n",
    "    \n",
    "\n",
    "\n",
    "def check_order(lis):\n",
    "    if lis == sorted(lis):\n",
    "        return True\n",
    "    else:\n",
    "        return False\n",
    "        \n",
    "        \n",
    "        \n",
    "ans =[] \n",
    "\n",
    "sub([0,4,2,3,5,1],[],0,ans)\n",
    "\n",
    "#sort ans by length\n",
    "ans = [(len(x),x) for x in ans]\n",
    "ans = sorted(ans, key = lambda x : x[0])\n",
    "for i in range(len(ans)-1,-1,-1):\n",
    "    if check_order(ans[i][1]):\n",
    "        print(ans[i][1])\n",
    "        break\n"
   ]
  },
  {
   "cell_type": "code",
   "execution_count": 143,
   "metadata": {},
   "outputs": [
    {
     "data": {
      "text/plain": [
       "5"
      ]
     },
     "execution_count": 143,
     "metadata": {},
     "output_type": "execute_result"
    }
   ],
   "source": [
    "#using Binary search\\\\\\\\\n",
    "\n",
    "def binary_search(arr,target):\n",
    "    left = 0\n",
    "    right = len(arr) - 1\n",
    "    while left <= right:\n",
    "        mid = left + (right - left)//2\n",
    "        if arr[mid] == target:\n",
    "            return mid\n",
    "        if arr[mid] > target:\n",
    "            right = mid-1\n",
    "        else:\n",
    "            left = mid +1\n",
    "    return left\n",
    "        \n",
    "\n",
    "def LongIncreasingSubsequence(arr):\n",
    "    temp = []\n",
    "    temp.append(arr[0])\n",
    "    for i in range(1,len(arr)):\n",
    "        if arr[i]> temp[-1]:\n",
    "            temp.append(arr[i])\n",
    "        else:\n",
    "            idx = binary_search(temp,arr[i])\n",
    "            \n",
    "            if temp[idx] == arr[i]:\n",
    "                pass\n",
    "            else:\n",
    "                temp[idx] = arr[i]\n",
    "    \n",
    "    return len(temp)\n",
    "\n",
    "LongIncreasingSubsequence([1,4,1,5,2,6,8])"
   ]
  },
  {
   "cell_type": "markdown",
   "metadata": {},
   "source": [
    "### question 8 : 132 pattern\n",
    "Given an array of `n` integers `nums`, a **132 pattern** is a subsequence of three integers `nums[i]`, `nums[j]` and `nums[k]` such that `i < j < k` and `nums[i] < nums[k] < nums[j]`.\n",
    "\n",
    "Return `true` *if there is a **132 pattern** in* `nums`*, otherwise, return* `false`*.*"
   ]
  },
  {
   "cell_type": "raw",
   "metadata": {},
   "source": [
    "Input: nums = [1,2,3,4]\n",
    "Output: false\n",
    "Explanation: There is no 132 pattern in the sequence.\n"
   ]
  },
  {
   "cell_type": "code",
   "execution_count": 144,
   "metadata": {},
   "outputs": [
    {
     "data": {
      "text/plain": [
       "False"
      ]
     },
     "execution_count": 144,
     "metadata": {},
     "output_type": "execute_result"
    }
   ],
   "source": [
    "### brute force for three integers\n",
    "\n",
    "def pattern132(arr):\n",
    "    for i in range(len(arr)):\n",
    "        for j in range(i+1,len(arr)):\n",
    "            for k in range(j+1,len(arr)):\n",
    "                if arr[k]> arr[i] and arr[k]< arr[j]:\n",
    "                    return True\n",
    "    return False\n",
    "\n",
    "pattern132([1,2,3,4])"
   ]
  },
  {
   "cell_type": "raw",
   "metadata": {},
   "source": [
    "Input: nums = [3,1,4,2]\n",
    "Output: true\n",
    "Explanation: There is a 132 pattern in the sequence: [1, 4, 2]."
   ]
  },
  {
   "cell_type": "code",
   "execution_count": 145,
   "metadata": {},
   "outputs": [
    {
     "data": {
      "text/plain": [
       "True"
      ]
     },
     "execution_count": 145,
     "metadata": {},
     "output_type": "execute_result"
    }
   ],
   "source": [
    "pattern132([3,1,4,2])"
   ]
  },
  {
   "cell_type": "code",
   "execution_count": 146,
   "metadata": {},
   "outputs": [
    {
     "name": "stdout",
     "output_type": "stream",
     "text": [
      "False\n",
      "True\n"
     ]
    }
   ],
   "source": [
    "### we can do this in O(N^2) by eleminating one loop\n",
    "## we need element at i be less then at j\n",
    "\n",
    "def pattern132(arr):\n",
    "    value_at_i = arr[0]\n",
    "    for j in range(len(arr)):\n",
    "        for k in range(j+1, len(arr)):\n",
    "            if arr[k] > value_at_i and arr[k]< arr[j]:\n",
    "                return True\n",
    "        value_at_i= min(value_at_i,arr[j])\n",
    "    return False\n",
    "\n",
    "print(pattern132([1,2,3,4]))\n",
    "print(pattern132([3,1,4,2]))\n",
    "        "
   ]
  },
  {
   "cell_type": "code",
   "execution_count": 147,
   "metadata": {},
   "outputs": [
    {
     "name": "stdout",
     "output_type": "stream",
     "text": [
      "False\n",
      "True\n"
     ]
    }
   ],
   "source": [
    "### use of stack property\n",
    "\n",
    "def pattern132(arr):\n",
    "    stack = []\n",
    "    third_element = float(\"-inf\")\n",
    "    for i in range(len(arr)-1,-1,-1):\n",
    "        if stack:\n",
    "            if third_element > arr[i]:\n",
    "                return True\n",
    "            while stack and stack[-1] < arr[i]:\n",
    "                third_element = stack[-1]\n",
    "                stack.pop()\n",
    "        stack.append(arr[i])\n",
    "    return False\n",
    "\n",
    "print(pattern132([1,2,3,4]))\n",
    "print(pattern132([3,1,4,2]))"
   ]
  },
  {
   "cell_type": "code",
   "execution_count": null,
   "metadata": {},
   "outputs": [],
   "source": []
  }
 ],
 "metadata": {
  "kernelspec": {
   "display_name": "Python 3",
   "language": "python",
   "name": "python3"
  },
  "language_info": {
   "codemirror_mode": {
    "name": "ipython",
    "version": 3
   },
   "file_extension": ".py",
   "mimetype": "text/x-python",
   "name": "python",
   "nbconvert_exporter": "python",
   "pygments_lexer": "ipython3",
   "version": "3.7.9"
  }
 },
 "nbformat": 4,
 "nbformat_minor": 4
}
