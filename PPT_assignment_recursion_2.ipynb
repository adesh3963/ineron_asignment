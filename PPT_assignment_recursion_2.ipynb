{
 "cells": [
  {
   "cell_type": "markdown",
   "metadata": {},
   "source": [
    "### Question 1\n",
    "Given an integer `n`, return *`true` if it is a power of three. Otherwise, return `false`*.\n",
    "\n",
    "An integer `n` is a power of three, if there exists an integer `x` such that `n == 3x`"
   ]
  },
  {
   "cell_type": "code",
   "execution_count": 1,
   "metadata": {},
   "outputs": [
    {
     "data": {
      "text/plain": [
       "False"
      ]
     },
     "execution_count": 1,
     "metadata": {},
     "output_type": "execute_result"
    }
   ],
   "source": [
    "def power_of_3(n):\n",
    "    if n == 1:\n",
    "        return True\n",
    "    if n%3 != 0 or n <= 0:\n",
    "        return False\n",
    "    n = n //3\n",
    "    return power_of_3(n)\n",
    "    \n",
    "    \n",
    "power_of_3(0)"
   ]
  },
  {
   "cell_type": "code",
   "execution_count": 3,
   "metadata": {},
   "outputs": [
    {
     "data": {
      "text/plain": [
       "True"
      ]
     },
     "execution_count": 3,
     "metadata": {},
     "output_type": "execute_result"
    }
   ],
   "source": [
    "power_of_3(9)"
   ]
  },
  {
   "cell_type": "markdown",
   "metadata": {},
   "source": [
    "### Question 2\n",
    "<aside>\n",
    "💡  ##\n",
    "\n",
    "You have a list `arr` of all integers in the range `[1, n]` sorted in a strictly increasing order. Apply the following algorithm on `arr`:\n",
    "\n",
    "- Starting from left to right, remove the first number and every other number afterward until you reach the end of the list.\n",
    "- Repeat the previous step again, but this time from right to left, remove the rightmost number and every other number from the remaining numbers.\n",
    "- Keep repeating the steps again, alternating left to right and right to left, until a single number remains.\n",
    "\n",
    "Given the integer `n`, return *the last number that remains in* `arr`.\n",
    "\n",
    "</aside>"
   ]
  },
  {
   "cell_type": "code",
   "execution_count": 18,
   "metadata": {},
   "outputs": [
    {
     "data": {
      "text/plain": [
       "6"
      ]
     },
     "execution_count": 18,
     "metadata": {},
     "output_type": "execute_result"
    }
   ],
   "source": [
    "def lastRemaining(arr):\n",
    "    if len(arr) == 1:\n",
    "        return arr[0]\n",
    "    \n",
    "    left_to_right = arr[1::2]\n",
    "\n",
    "    right_to_left = left_to_right[::2]\n",
    "\n",
    "    return lastRemaining(right_to_left)\n",
    "\n",
    "lastRemaining([1, 2, 3, 4, 5, 6, 7, 8, 9])"
   ]
  },
  {
   "cell_type": "markdown",
   "metadata": {},
   "source": [
    "### Question 3\n",
    "<aside>\n",
    "💡 ****\n",
    "\n",
    "****Given a set represented as a string, write a recursive code to print all subsets of it. The subsets can be printed in any order.\n",
    "\n",
    "**Example 1:**\n",
    "\n",
    "Input :  set = “abc”\n",
    "\n",
    "Output : { “”, “a”, “b”, “c”, “ab”, “ac”, “bc”, “abc”}\n",
    "\n",
    "**Example 2:**\n",
    "\n",
    "Input : set = “abcd”\n",
    "\n",
    "Output : { “”, “a” ,”ab” ,”abc” ,”abcd”, “abd” ,”ac” ,”acd”, “ad” ,”b”, “bc” ,”bcd” ,”bd” ,”c” ,”cd” ,”d” }\n",
    "\n",
    "</aside>"
   ]
  },
  {
   "cell_type": "code",
   "execution_count": 4,
   "metadata": {},
   "outputs": [
    {
     "name": "stdout",
     "output_type": "stream",
     "text": [
      "\n",
      "c\n",
      "b\n",
      "bc\n",
      "a\n",
      "ac\n",
      "ab\n",
      "abc\n"
     ]
    }
   ],
   "source": [
    "def printAllSubsets(given_str,output_str,index):\n",
    "    if len(given_str) == index: \n",
    "        print(output_str)\n",
    "        return\n",
    "    \n",
    "    \n",
    "    printAllSubsets(given_str,output_str,index+1)\n",
    "    \n",
    "    printAllSubsets(given_str,output_str + given_str[index],index+ 1)\n",
    "    \n",
    "    \n",
    "printAllSubsets(\"abc\",\"\",0)        \n",
    "        "
   ]
  },
  {
   "cell_type": "markdown",
   "metadata": {},
   "source": [
    "### question 4\n",
    "Given a string calculate length of the string using recursion."
   ]
  },
  {
   "cell_type": "code",
   "execution_count": 29,
   "metadata": {},
   "outputs": [
    {
     "data": {
      "text/plain": [
       "4"
      ]
     },
     "execution_count": 29,
     "metadata": {},
     "output_type": "execute_result"
    }
   ],
   "source": [
    "def lenghtOfString(s):\n",
    "    if s == \"\":\n",
    "        return 0\n",
    "    return 1 + lenghtOfString(s[1:])\n",
    "\n",
    "\n",
    "lenghtOfString(\"abcd\")"
   ]
  },
  {
   "cell_type": "markdown",
   "metadata": {},
   "source": [
    "\n",
    "### Question 5\n",
    "We are given a string S, we need to find count of all contiguous substrings starting and ending with same character."
   ]
  },
  {
   "cell_type": "raw",
   "metadata": {},
   "source": [
    "Input  : S = \"abcab\"\n",
    "Output : 7\n",
    "There are 15 substrings of \"abcab\"\n",
    "a, ab, abc, abca, abcab, b, bc, bca\n",
    "bcab, c, ca, cab, a, ab, b\n",
    "Out of the above substrings, there\n",
    "are 7 substrings : a, abca, b, bcab,\n",
    "c, a and b."
   ]
  },
  {
   "cell_type": "code",
   "execution_count": 15,
   "metadata": {},
   "outputs": [
    {
     "name": "stdout",
     "output_type": "stream",
     "text": [
      "7\n"
     ]
    }
   ],
   "source": [
    "s = \"abcab\"\n",
    "count = 0\n",
    "for i in range(len(s)):\n",
    "    a = \"\"\n",
    "    for j in range(i,len(s)):\n",
    "        a = a + s[j]\n",
    "        if a[0]== a[-1]:\n",
    "            count += 1\n",
    "            #print(a)\n",
    "print(count)"
   ]
  },
  {
   "cell_type": "code",
   "execution_count": 30,
   "metadata": {},
   "outputs": [
    {
     "data": {
      "text/plain": [
       "7"
      ]
     },
     "execution_count": 30,
     "metadata": {},
     "output_type": "execute_result"
    }
   ],
   "source": [
    "def firstLastEqual(s,i):\n",
    "    if i == len(s):\n",
    "        return 0\n",
    "    ans = \"\"\n",
    "    count = 0\n",
    "    for j in range(i,len(s)):\n",
    "        ans = ans + s[j]\n",
    "        if ans[0]== ans[-1]:\n",
    "            count += 1\n",
    "    return count + firstLastEqual(s,i+1)\n",
    "            \n",
    "        \n",
    "firstLastEqual(\"abcab\",0)"
   ]
  },
  {
   "cell_type": "markdown",
   "metadata": {},
   "source": [
    "### Question 6\n",
    "The tower of Hanoi is a famous puzzle where we have three rods and N disks. The objective of the puzzle is to move the entire stack to another rod. You are given the number of discs N. Initially, these discs are in the rod 1. You need to print all the steps of discs movement so that all the discs reach the 3rd rod. Also, you need to find the total moves.Note: The discs are arranged such that the top disc is numbered 1 and the bottom-most disc is numbered N. Also, all the discs have different sizes and a bigger disc cannot be put on the top of a smaller disc. Refer the provided link to get a better clarity about the puzzle."
   ]
  },
  {
   "cell_type": "code",
   "execution_count": 50,
   "metadata": {},
   "outputs": [
    {
     "name": "stdout",
     "output_type": "stream",
     "text": [
      "move form Main tower to Auxillary tower\n",
      "move form Main tower to Destination tower\n",
      "move form Auxillary tower to Destination tower\n"
     ]
    }
   ],
   "source": [
    "def towerOfHanoi(n,A,C,B):\n",
    "    if n <= 0:\n",
    "        return\n",
    "    towerOfHanoi(n-1,A,B,C)\n",
    "    print(\"move form {} to {}\".format(A,B))\n",
    "    towerOfHanoi(n-1,C,A,B)\n",
    "\n",
    "    \n",
    "beg =\"Main tower\"\n",
    "aux =\"Auxillary tower\"\n",
    "end = \"Destination tower\"\n",
    "\n",
    "towerOfHanoi(2,beg,aux,end)\n",
    "        "
   ]
  },
  {
   "cell_type": "code",
   "execution_count": null,
   "metadata": {},
   "outputs": [],
   "source": []
  },
  {
   "cell_type": "markdown",
   "metadata": {},
   "source": [
    "### Question 7\n",
    "<aside>\n",
    "💡 ****\n",
    "\n",
    "Given a string **str**, the task is to print all the permutations of **str**. A **permutation** is an arrangement of all or part of a set of objects, with regard to the order of the arrangement. For instance, the words ‘bat’ and ‘tab’ represents two distinct permutation (or arrangements) of a similar three letter word.\n",
    "\n",
    "</aside>"
   ]
  },
  {
   "cell_type": "raw",
   "metadata": {},
   "source": [
    "> Input: str = “cd”\n",
    "> \n",
    "> \n",
    "> **Output:** cd dc\n",
    "> \n",
    "> **Input:** str = “abb”\n",
    "> \n",
    "> **Output:** abb abb bab bba bab bba\n",
    ">"
   ]
  },
  {
   "cell_type": "code",
   "execution_count": 36,
   "metadata": {},
   "outputs": [
    {
     "name": "stdout",
     "output_type": "stream",
     "text": [
      "abc\n",
      "acb\n",
      "bac\n",
      "bca\n",
      "cba\n",
      "cab\n"
     ]
    }
   ],
   "source": [
    "def permuatations(s,index):\n",
    "    s = list(s)\n",
    "    if index == len(s):\n",
    "        print(\"\".join(s))\n",
    "    for j in range(index,len(s)):\n",
    "        s[index],s[j]= s[j],s[index]\n",
    "        permuatations(s,index+1)\n",
    "        s[index],s[j]= s[j],s[index]\n",
    "        \n",
    "permuatations(\"abc\",0)\n",
    "            \n"
   ]
  },
  {
   "cell_type": "markdown",
   "metadata": {},
   "source": [
    "\n",
    "### Question 8\n",
    "<aside>\n",
    "💡 ****\n",
    "\n",
    "Given a string, count total number of consonants in it. A consonant is an English alphabet character that is not vowel (a, e, i, o and u). Examples of constants are b, c, d, f, and g.\n",
    "\n",
    "</aside>"
   ]
  },
  {
   "cell_type": "raw",
   "metadata": {},
   "source": [
    "Input : abc de\n",
    "Output : 3\n",
    "There are three consonants b, c and d.\n",
    "\n",
    "Input : geeksforgeeks portal\n",
    "Output : 12"
   ]
  },
  {
   "cell_type": "code",
   "execution_count": 39,
   "metadata": {},
   "outputs": [
    {
     "data": {
      "text/plain": [
       "3"
      ]
     },
     "execution_count": 39,
     "metadata": {},
     "output_type": "execute_result"
    }
   ],
   "source": [
    "### brute force non recursive\n",
    "def total_consonant(s):\n",
    "    all_consonants = \"bcdfghjklmnpqrstvwxyz\"\n",
    "    count = 0\n",
    "    for e in s:\n",
    "        if e.lower() in all_consonants:\n",
    "            count  += 1\n",
    "    return count\n",
    "\n",
    "total_consonant(\"abc de\")"
   ]
  },
  {
   "cell_type": "code",
   "execution_count": 49,
   "metadata": {},
   "outputs": [
    {
     "data": {
      "text/plain": [
       "3"
      ]
     },
     "execution_count": 49,
     "metadata": {},
     "output_type": "execute_result"
    }
   ],
   "source": [
    "### trying recusively\n",
    "def totalConsonant_recursively(s,index,count):\n",
    "    if index ==len(s):\n",
    "        return count\n",
    "    if s[index].lower() not in \"aeiou\" and s[index].isalpha():\n",
    "        count += 1\n",
    "        \n",
    "    return totalConsonant_recursively(s,index + 1, count)\n",
    "\n",
    "lenght(\"abc de\",0,0)"
   ]
  },
  {
   "cell_type": "code",
   "execution_count": null,
   "metadata": {},
   "outputs": [],
   "source": []
  }
 ],
 "metadata": {
  "kernelspec": {
   "display_name": "Python 3",
   "language": "python",
   "name": "python3"
  },
  "language_info": {
   "codemirror_mode": {
    "name": "ipython",
    "version": 3
   },
   "file_extension": ".py",
   "mimetype": "text/x-python",
   "name": "python",
   "nbconvert_exporter": "python",
   "pygments_lexer": "ipython3",
   "version": "3.7.9"
  }
 },
 "nbformat": 4,
 "nbformat_minor": 4
}
