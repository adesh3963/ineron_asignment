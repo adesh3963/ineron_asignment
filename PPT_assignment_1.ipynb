{
 "cells": [
  {
   "cell_type": "markdown",
   "metadata": {},
   "source": [
    "# Question 1\n",
    "<aside>\n",
    "💡 **Q1.** Given an array of integers nums and an integer target, return indices of the two numbers such that they add up to target.\n",
    "\n",
    "You may assume that each input would have exactly one solution, and you may not use the same element twice.\n",
    "\n",
    "You can return the answer in any order.\n",
    "\n",
    "**Example:**\n",
    "Input: nums = [2,7,11,15], target = 9\n",
    "Output0 [0,1]\n",
    "\n",
    "**Explanation:** Because nums[0] + nums[1] == 9, we return [0, 1][\n",
    "\n",
    "</aside>"
   ]
  },
  {
   "cell_type": "markdown",
   "metadata": {},
   "source": [
    "### # brute force"
   ]
  },
  {
   "cell_type": "code",
   "execution_count": 4,
   "metadata": {},
   "outputs": [
    {
     "data": {
      "text/plain": [
       "(0, 1)"
      ]
     },
     "execution_count": 4,
     "metadata": {},
     "output_type": "execute_result"
    }
   ],
   "source": [
    "def return_sum_target_indices(lis,target):\n",
    "    \n",
    "    for i in range(len(lis)):\n",
    "        for j in range(i+1,len(lis)):\n",
    "            if lis[i]+ lis[j] == target:\n",
    "                return i,j\n",
    "return_sum_target_indices([2,7,11,15],9)"
   ]
  },
  {
   "cell_type": "markdown",
   "metadata": {},
   "source": [
    "time : O(N^2)\n",
    "space: O(1)"
   ]
  },
  {
   "cell_type": "markdown",
   "metadata": {},
   "source": [
    "### # better\n",
    "using dictionary"
   ]
  },
  {
   "cell_type": "code",
   "execution_count": 16,
   "metadata": {},
   "outputs": [
    {
     "data": {
      "text/plain": [
       "(0, 1)"
      ]
     },
     "execution_count": 16,
     "metadata": {},
     "output_type": "execute_result"
    }
   ],
   "source": [
    "def return_sum_target_indices1(lis,target):\n",
    "    dic = {}\n",
    "    for i in range(len(lis)):\n",
    "        r = target - lis[i]\n",
    "        #print(dic.get(r))\n",
    "        if dic.get(r) is not None:\n",
    "            # if we get remainder key in the dic\n",
    "            return dic.get(r),i\n",
    "        else:\n",
    "            #storing traversed value in dic with its index\n",
    "            dic[lis[i]] = i\n",
    "    print(dic)\n",
    "return_sum_target_indices1([2,7,11,15],9)"
   ]
  },
  {
   "cell_type": "markdown",
   "metadata": {},
   "source": [
    "time : O(N), Space : O(N) using dictionary"
   ]
  },
  {
   "cell_type": "markdown",
   "metadata": {},
   "source": [
    "# Question 2"
   ]
  },
  {
   "cell_type": "markdown",
   "metadata": {},
   "source": [
    "<aside>\n",
    "💡 **Q2.** Given an integer array nums and an integer val, remove all occurrences of val in nums in-place. The order of the elements may be changed. Then return the number of elements in nums which are not equal to val.\n",
    "\n",
    "Consider the number of elements in nums which are not equal to val be k, to get accepted, you need to do the following things:\n",
    "\n",
    "- Change the array nums such that the first k elements of nums contain the elements which are not equal to val. The remaining elements of nums are not important as well as the size of nums.\n",
    "- Return k.\n",
    "\n",
    "**Example :**\n",
    "Input: nums = [3,2,2,3], val = 3\n",
    "Output: 2, nums = [2,2,_*,_*]\n",
    "\n",
    "**Explanation:** Your function should return k = 2, with the first two elements of nums being 2. It does not matter what you leave beyond the returned k (hence they are underscores)\n",
    "\n",
    "</aside>"
   ]
  },
  {
   "cell_type": "code",
   "execution_count": 24,
   "metadata": {},
   "outputs": [
    {
     "name": "stdout",
     "output_type": "stream",
     "text": [
      "1\n"
     ]
    },
    {
     "data": {
      "text/plain": [
       "[2, 2, 3, 3]"
      ]
     },
     "execution_count": 24,
     "metadata": {},
     "output_type": "execute_result"
    }
   ],
   "source": [
    "def not_equal_to_val(nums,val):\n",
    "    i = 0\n",
    "    j = len(nums)-1\n",
    "    while i<j:\n",
    "        if nums[j] != val:\n",
    "            nums[i],nums[j]= nums[j],nums[i]\n",
    "            i += 1\n",
    "            \n",
    "            \n",
    "        else:\n",
    "            j -= 1\n",
    "    return nums\n",
    "not_equal_to_val([3,2,2,3],3)"
   ]
  },
  {
   "cell_type": "markdown",
   "metadata": {},
   "source": [
    "<u>Doubt: I could not understand the above question and output requirement </u>"
   ]
  },
  {
   "cell_type": "markdown",
   "metadata": {},
   "source": [
    "# Question 3"
   ]
  },
  {
   "cell_type": "markdown",
   "metadata": {},
   "source": [
    "<aside>\n",
    "💡 **Q3.** Given a sorted array of distinct integers and a target value, return the index if the target is found. If not, return the index where it would be if it were inserted in order.\n",
    "\n",
    "You must write an algorithm with O(log n) runtime complexity.\n",
    "\n",
    "**Example 1:**\n",
    "Input: nums = [1,3,5,6], target = 5\n",
    "\n",
    "Output: 2\n",
    "\n",
    "</aside>"
   ]
  },
  {
   "cell_type": "markdown",
   "metadata": {},
   "source": [
    "### # brute force"
   ]
  },
  {
   "cell_type": "code",
   "execution_count": 22,
   "metadata": {},
   "outputs": [
    {
     "name": "stdout",
     "output_type": "stream",
     "text": [
      "2\n"
     ]
    }
   ],
   "source": [
    "def find_the_index(lis,target):\n",
    "    for i in range(len(lis)):\n",
    "        if lis[i]==target:\n",
    "            return i\n",
    "    else:\n",
    "        # if not found\n",
    "        #it could be inserted at\n",
    "        for i in range(len(lis)):\n",
    "            if target< lis[i]:\n",
    "                return i\n",
    "        else:\n",
    "            return len(lis)  ### if it is greater than all elements\n",
    "print(find_the_index([1,3,5,6],5))\n",
    "\n",
    "                "
   ]
  },
  {
   "cell_type": "markdown",
   "metadata": {},
   "source": [
    "time : O(2N), Space : O(1)"
   ]
  },
  {
   "cell_type": "markdown",
   "metadata": {},
   "source": [
    "### # better\n",
    "using binary search"
   ]
  },
  {
   "cell_type": "code",
   "execution_count": 8,
   "metadata": {},
   "outputs": [
    {
     "data": {
      "text/plain": [
       "3"
      ]
     },
     "execution_count": 8,
     "metadata": {},
     "output_type": "execute_result"
    }
   ],
   "source": [
    "#since array is already sorted we can go for binary search\n",
    "#assuming sorted in ascending order\n",
    "lis = [1,3,5,6]\n",
    "low= 0\n",
    "high = len(lis)-1\n",
    "def find_the_index1(lis,target):\n",
    "    low= 0\n",
    "    high = len(lis)-1\n",
    "    while high>= low:\n",
    "        mid = (high+low)//2\n",
    "        if lis[mid]== target:\n",
    "            return mid\n",
    "        elif target > lis[mid]:\n",
    "            low= mid+1\n",
    "        else:\n",
    "            high = mid-1\n",
    "    else:\n",
    "        return low\n",
    "find_the_index1(lis,6)"
   ]
  },
  {
   "cell_type": "code",
   "execution_count": 9,
   "metadata": {},
   "outputs": [
    {
     "data": {
      "text/plain": [
       "4"
      ]
     },
     "execution_count": 9,
     "metadata": {},
     "output_type": "execute_result"
    }
   ],
   "source": [
    "find_the_index1([1,3,5,6],7)"
   ]
  },
  {
   "cell_type": "markdown",
   "metadata": {},
   "source": [
    "TC : O(logn), SC: O(1)"
   ]
  },
  {
   "cell_type": "markdown",
   "metadata": {},
   "source": [
    "# Question 4\n",
    "\n",
    "<aside>\n",
    "💡 **Q4.** You are given a large integer represented as an integer array digits, where each digits[i] is the ith digit of the integer. The digits are ordered from most significant to least significant in left-to-right order. The large integer does not contain any leading 0's.\n",
    "\n",
    "Increment the large integer by one and return the resulting array of digits.\n",
    "\n",
    "**Example 1:**\n",
    "Input: digits = [1,2,3]\n",
    "Output: [1,2,4]\n",
    "\n",
    "**Explanation:** The array represents the integer 123.\n",
    "\n",
    "Incrementing by one gives 123 + 1 = 124.\n",
    "Thus, the result should be [1,2,4].\n",
    "\n",
    "</aside>"
   ]
  },
  {
   "cell_type": "markdown",
   "metadata": {},
   "source": [
    "### # Brute force in pythonic way"
   ]
  },
  {
   "cell_type": "code",
   "execution_count": 21,
   "metadata": {},
   "outputs": [
    {
     "data": {
      "text/plain": [
       "[1, 2, 4]"
      ]
     },
     "execution_count": 21,
     "metadata": {},
     "output_type": "execute_result"
    }
   ],
   "source": [
    "def increament(lis):\n",
    "    s= \"\"\n",
    "    for e in lis:\n",
    "        s= s + str(e)\n",
    "    s= int(s) + 1\n",
    "    temp = [int(e) for e in str(s)]\n",
    "    return temp\n",
    "increament([1,2,3])"
   ]
  },
  {
   "cell_type": "code",
   "execution_count": 22,
   "metadata": {},
   "outputs": [
    {
     "data": {
      "text/plain": [
       "[1, 0, 0, 0]"
      ]
     },
     "execution_count": 22,
     "metadata": {},
     "output_type": "execute_result"
    }
   ],
   "source": [
    "increament([9,9,9])"
   ]
  },
  {
   "cell_type": "markdown",
   "metadata": {},
   "source": [
    "TC : O(N) + O(N) +O(N)+ O(N), SC : O(N) for using temp "
   ]
  },
  {
   "cell_type": "markdown",
   "metadata": {},
   "source": [
    "### # better Approach"
   ]
  },
  {
   "cell_type": "code",
   "execution_count": 29,
   "metadata": {},
   "outputs": [
    {
     "data": {
      "text/plain": [
       "[1, 2, 4]"
      ]
     },
     "execution_count": 29,
     "metadata": {},
     "output_type": "execute_result"
    }
   ],
   "source": [
    "def increment1(lis):\n",
    "    i = len(lis)-1\n",
    "    carry = 1\n",
    "    while i >=0:\n",
    "        sum_ = lis[i] + carry\n",
    "        unit = sum_ % 10\n",
    "        carry = sum_//10\n",
    "        lis[i]= unit\n",
    "        i -=1\n",
    "    ## special case like 999 or 9999\n",
    "    if carry > 0:\n",
    "        lis.insert(0,carry)  \n",
    "    return lis\n",
    "increment1([1,2,3])\n",
    "        \n",
    "    "
   ]
  },
  {
   "cell_type": "code",
   "execution_count": 25,
   "metadata": {},
   "outputs": [
    {
     "data": {
      "text/plain": [
       "[3, 5, 0]"
      ]
     },
     "execution_count": 25,
     "metadata": {},
     "output_type": "execute_result"
    }
   ],
   "source": [
    "increment1([3,4,9])"
   ]
  },
  {
   "cell_type": "code",
   "execution_count": 28,
   "metadata": {},
   "outputs": [
    {
     "data": {
      "text/plain": [
       "[1, 0, 0, 0]"
      ]
     },
     "execution_count": 28,
     "metadata": {},
     "output_type": "execute_result"
    }
   ],
   "source": [
    "increment1([9,9,9])"
   ]
  },
  {
   "cell_type": "markdown",
   "metadata": {},
   "source": [
    "TC : O(N) and O(N) + O(N) for special case <br>\n",
    "SC : O(1) "
   ]
  },
  {
   "cell_type": "markdown",
   "metadata": {},
   "source": [
    "# Question 5\n",
    "<aside>\n",
    "💡 **Q5.** You are given two integer arrays nums1 and nums2, sorted in non-decreasing order, and two integers m and n, representing the number of elements in nums1 and nums2 respectively.\n",
    "\n",
    "Merge nums1 and nums2 into a single array sorted in non-decreasing order.\n",
    "\n",
    "The final sorted array should not be returned by the function, but instead be stored inside the array nums1. To accommodate this, nums1 has a length of m + n, where the first m elements denote the elements that should be merged, and the last n elements are set to 0 and should be ignored. nums2 has a length of n.\n",
    "\n",
    "**Example 1:**\n",
    "Input: nums1 = [1,2,3,0,0,0], m = 3, nums2 = [2,5,6], n = 3\n",
    "Output: [1,2,2,3,5,6]\n",
    "\n",
    "**Explanation:** The arrays we are merging are [1,2,3] and [2,5,6].\n",
    "The result of the merge is [1,2,2,3,5,6] with the underlined elements coming from nums1.\n",
    "\n",
    "</aside>"
   ]
  },
  {
   "cell_type": "code",
   "execution_count": 26,
   "metadata": {},
   "outputs": [
    {
     "data": {
      "text/plain": [
       "[1, 2, 2, 3, 5, 6]"
      ]
     },
     "execution_count": 26,
     "metadata": {},
     "output_type": "execute_result"
    }
   ],
   "source": [
    "def merger(lis,lis2,m,n):\n",
    "    i = m-1\n",
    "    j = n-1\n",
    "    k = m + n -1\n",
    "    while i >=0 and j >=0 :\n",
    "        if lis[i] > lis2[j]:\n",
    "            lis[k]= lis[i]\n",
    "            i -= 1\n",
    "        else:\n",
    "            lis[k] = lis2[j]\n",
    "            j -= 1\n",
    "        k -= 1\n",
    "        \n",
    "    return lis\n",
    "merger([1,2,3,0,0,0],[2,5,6],3,3)\n",
    "            "
   ]
  },
  {
   "cell_type": "markdown",
   "metadata": {},
   "source": [
    "TC : O(n), SC : O(1)"
   ]
  },
  {
   "cell_type": "markdown",
   "metadata": {},
   "source": [
    "# Question 6\n",
    "<aside>\n",
    "💡 **Q6.** Given an integer array nums, return true if any value appears at least twice in the array, and return false if every element is distinct.\n",
    "\n",
    "**Example 1:**\n",
    "Input: nums = [1,2,3,1]\n",
    "\n",
    "Output: true\n",
    "\n",
    "</aside>"
   ]
  },
  {
   "cell_type": "markdown",
   "metadata": {},
   "source": [
    "### # Brute force"
   ]
  },
  {
   "cell_type": "code",
   "execution_count": 30,
   "metadata": {},
   "outputs": [
    {
     "data": {
      "text/plain": [
       "True"
      ]
     },
     "execution_count": 30,
     "metadata": {},
     "output_type": "execute_result"
    }
   ],
   "source": [
    "def if_duplicate_exist(lis):\n",
    "    for i in range(len(lis)):\n",
    "        for j in range(i+1,len(lis)):\n",
    "            if lis[i]== lis[j]:\n",
    "                return True\n",
    "    else:\n",
    "        return False\n",
    "if_duplicate_exist([1,2,3,1])"
   ]
  },
  {
   "cell_type": "markdown",
   "metadata": {},
   "source": [
    "TC : O(N^2) , SC : O(1)"
   ]
  },
  {
   "cell_type": "markdown",
   "metadata": {},
   "source": [
    "### # better approach"
   ]
  },
  {
   "cell_type": "code",
   "execution_count": 31,
   "metadata": {},
   "outputs": [
    {
     "data": {
      "text/plain": [
       "True"
      ]
     },
     "execution_count": 31,
     "metadata": {},
     "output_type": "execute_result"
    }
   ],
   "source": [
    "## using hashmap\n",
    "def if_duplicate_exist(lis):\n",
    "    dic = {}\n",
    "    for i in range(len(lis)):\n",
    "        if dic.get(lis[i]):\n",
    "            return True\n",
    "        else:\n",
    "            dic[lis[i]] = 1\n",
    "    return False\n",
    "if_duplicate_exist([1,2,3,1])\n",
    "        "
   ]
  },
  {
   "cell_type": "markdown",
   "metadata": {},
   "source": [
    "TC : O(N), SC : O(N)"
   ]
  },
  {
   "cell_type": "markdown",
   "metadata": {},
   "source": [
    "# Question 7\n",
    "<aside>\n",
    "💡 **Q7.** Given an integer array nums, move all 0's to the end of it while maintaining the relative order of the nonzero elements.\n",
    "\n",
    "Note that you must do this in-place without making a copy of the array.\n",
    "\n",
    "**Example 1:**\n",
    "Input: nums = [0,1,0,3,12]\n",
    "Output: [1,3,12,0,0]\n",
    "\n",
    "</aside>"
   ]
  },
  {
   "cell_type": "markdown",
   "metadata": {},
   "source": [
    "### # brute force"
   ]
  },
  {
   "cell_type": "code",
   "execution_count": 37,
   "metadata": {},
   "outputs": [
    {
     "data": {
      "text/plain": [
       "[1, 3, 12, 0, 0]"
      ]
     },
     "execution_count": 37,
     "metadata": {},
     "output_type": "execute_result"
    }
   ],
   "source": [
    "def move_zero_to_end(lis):\n",
    "    non_zero = []\n",
    "    zero = []\n",
    "    for i in range(len(lis)):\n",
    "        if lis[i] == 0:\n",
    "            zero.append(lis[i])\n",
    "        else:\n",
    "            non_zero.append(lis[i])\n",
    "    non_zero.extend(zero) \n",
    "    return non_zero\n",
    "move_zero_to_end([0,1,0,3,12])"
   ]
  },
  {
   "cell_type": "markdown",
   "metadata": {},
   "source": [
    "TC : O(N)+ O(N)\"for extending\", SC : O(N)"
   ]
  },
  {
   "cell_type": "markdown",
   "metadata": {},
   "source": [
    "### # another approach"
   ]
  },
  {
   "cell_type": "markdown",
   "metadata": {},
   "source": [
    "#### saving space"
   ]
  },
  {
   "cell_type": "code",
   "execution_count": 47,
   "metadata": {},
   "outputs": [
    {
     "name": "stdout",
     "output_type": "stream",
     "text": [
      "[1, 0, 3, 12, 0]\n",
      "[1, 3, 12, 0, 0]\n",
      "[1, 3, 12, 0, 0]\n",
      "[1, 3, 12, 0, 0]\n"
     ]
    },
    {
     "data": {
      "text/plain": [
       "[1, 3, 12, 0, 0]"
      ]
     },
     "execution_count": 47,
     "metadata": {},
     "output_type": "execute_result"
    }
   ],
   "source": [
    "def move_zero_to_end(lis):\n",
    "    for i in range(len(lis)):\n",
    "        if lis[i] ==0:\n",
    "            lis.pop(i)\n",
    "            lis.insert(len(lis),0)\n",
    "            print(lis)\n",
    "    return lis\n",
    "move_zero_to_end([0,1,0,3,12])"
   ]
  },
  {
   "cell_type": "markdown",
   "metadata": {},
   "source": [
    "using a loop O(N),\n",
    "pop operation time cost O(N),\n",
    "insertion in last will cost O(1)\n",
    "<br>\n",
    "TC : O(N)*O(N)\n",
    "<br>   \n",
    "SC : O(1) , since not used extra space"
   ]
  },
  {
   "cell_type": "markdown",
   "metadata": {},
   "source": [
    "### # better approach"
   ]
  },
  {
   "cell_type": "code",
   "execution_count": 61,
   "metadata": {},
   "outputs": [
    {
     "data": {
      "text/plain": [
       "[1, 5, 3, 12, 0, 0, 0]"
      ]
     },
     "execution_count": 61,
     "metadata": {},
     "output_type": "execute_result"
    }
   ],
   "source": [
    "def move_zero_to_end(lis):\n",
    "    i = 0\n",
    "    j = 1\n",
    "    while j< len(lis):\n",
    "        if lis[j] != 0 and lis[i]==0:\n",
    "            lis[i],lis[j]= lis[j],lis[i]\n",
    "            i += 1\n",
    "        j += 1\n",
    "    return lis\n",
    "        \n",
    "        \n",
    "move_zero_to_end([0,1,0,5,0,3,12])"
   ]
  },
  {
   "cell_type": "markdown",
   "metadata": {},
   "source": [
    "TC : O(N),\n",
    "SC : O(1)\n",
    "    "
   ]
  },
  {
   "cell_type": "markdown",
   "metadata": {},
   "source": [
    "# Question 8\n",
    "<aside>\n",
    "💡 **Q8.** You have a set of integers s, which originally contains all the numbers from 1 to n. Unfortunately, due to some error, one of the numbers in s got duplicated to another number in the set, which results in repetition of one number and loss of another number.\n",
    "\n",
    "You are given an integer array nums representing the data status of this set after the error.\n",
    "\n",
    "Find the number that occurs twice and the number that is missing and return them in the form of an array.\n",
    "\n",
    "**Example 1:**\n",
    "Input: nums = [1,2,2,4]\n",
    "Output: [2,3]\n",
    "\n",
    "</aside>"
   ]
  },
  {
   "cell_type": "markdown",
   "metadata": {},
   "source": [
    "### # brute force\n"
   ]
  },
  {
   "cell_type": "code",
   "execution_count": 68,
   "metadata": {},
   "outputs": [
    {
     "data": {
      "text/plain": [
       "[4, 5]"
      ]
     },
     "execution_count": 68,
     "metadata": {},
     "output_type": "execute_result"
    }
   ],
   "source": [
    "def find_the_missing(lis):\n",
    "    #duplicate \n",
    "    temp = []\n",
    "    for i in range(len(lis)):\n",
    "        for j in range(i+1,len(lis)):\n",
    "            if lis[i] == lis[j]:\n",
    "                temp.append(lis[i])\n",
    "                break\n",
    "            \n",
    "    ## find missing\n",
    "    for i in range(1,len(lis)+1):\n",
    "        if i not in lis:\n",
    "            temp.append(i)\n",
    "    return temp\n",
    "    \n",
    "            \n",
    "        \n",
    "find_the_missing([3,4,2,1,4])\n",
    "\n",
    "            "
   ]
  },
  {
   "cell_type": "code",
   "execution_count": null,
   "metadata": {},
   "outputs": [],
   "source": []
  }
 ],
 "metadata": {
  "kernelspec": {
   "display_name": "Python 3",
   "language": "python",
   "name": "python3"
  },
  "language_info": {
   "codemirror_mode": {
    "name": "ipython",
    "version": 3
   },
   "file_extension": ".py",
   "mimetype": "text/x-python",
   "name": "python",
   "nbconvert_exporter": "python",
   "pygments_lexer": "ipython3",
   "version": "3.7.9"
  }
 },
 "nbformat": 4,
 "nbformat_minor": 4
}
