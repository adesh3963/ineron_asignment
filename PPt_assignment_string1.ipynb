{
 "cells": [
  {
   "cell_type": "markdown",
   "metadata": {},
   "source": [
    "#### Question 1\n",
    "<aside>\n",
    "💡 ****\n",
    "\n",
    "Given two strings s and t, *determine if they are isomorphic*.\n",
    "\n",
    "Two strings s and t are isomorphic if the characters in s can be replaced to get t.\n",
    "\n",
    "All occurrences of a character must be replaced with another character while preserving the order of characters. No two characters may map to the same character, but a character may map to itself.\n",
    "\n",
    "**Example 1:**\n",
    "\n",
    "**Input:** s = \"egg\", t = \"add\"\n",
    "\n",
    "**Output:** true\n",
    "\n",
    "</aside>"
   ]
  },
  {
   "cell_type": "code",
   "execution_count": 47,
   "metadata": {},
   "outputs": [],
   "source": [
    "def isomorhic(s1,s2):\n",
    "    if len(s1)==len(s2):\n",
    "        dic1 = {}\n",
    "        dic2 = {}\n",
    "        n = len(s1)\n",
    "        i= 0\n",
    "        while i < n:\n",
    "            e1 = s1[i]\n",
    "            e2 = s2[i]\n",
    "    \n",
    "            if dic1.get(e1):\n",
    "                temp = dic1[e1]\n",
    "                \n",
    "                if temp != e2:\n",
    "                    return False\n",
    "            else:\n",
    "                if dic2.get(e2):\n",
    "                    return False\n",
    "                else:\n",
    "                    dic1[e1] = e2\n",
    "                    dic2[e2] = True\n",
    "            i +=1\n",
    "        \n",
    "        else:\n",
    "            \n",
    "            return True\n",
    "    else:\n",
    "        return False\n",
    "    \n",
    "\n",
    "    "
   ]
  },
  {
   "cell_type": "code",
   "execution_count": 48,
   "metadata": {},
   "outputs": [
    {
     "data": {
      "text/plain": [
       "True"
      ]
     },
     "execution_count": 48,
     "metadata": {},
     "output_type": "execute_result"
    }
   ],
   "source": [
    "s = \"add\"\n",
    "t = \"egg\"\n",
    "isomorhic(s,t)"
   ]
  },
  {
   "cell_type": "markdown",
   "metadata": {},
   "source": [
    "<aside>\n",
    "💡 **Question 2**\n",
    "\n",
    "Given a string num which represents an integer, return true *if* num *is a **strobogrammatic number***.\n",
    "\n",
    "A **strobogrammatic number** is a number that looks the same when rotated 180 degrees (looked at upside down).\n",
    "\n",
    "**Example 1:**\n",
    "\n",
    "**Input:** num = \"69\"\n",
    "\n",
    "**Output:**\n",
    "\n",
    "true\n",
    "\n",
    "</aside>"
   ]
  },
  {
   "cell_type": "code",
   "execution_count": 65,
   "metadata": {},
   "outputs": [
    {
     "data": {
      "text/plain": [
       "True"
      ]
     },
     "execution_count": 65,
     "metadata": {},
     "output_type": "execute_result"
    }
   ],
   "source": [
    "def strobogramatic_num(s):\n",
    "    dic = {\"1\":\"1\",\"0\":\"0\",\"6\":\"9\",\"8\":\"8\",\"9\":\"6\"}\n",
    "    if len(s)==1:\n",
    "        if s in dic:\n",
    "            return True\n",
    "    else:\n",
    "        i = 0\n",
    "        j = len(s)-1\n",
    "        while i <= j:\n",
    "            if s[i] in dic and s[j] in dic:\n",
    "            \n",
    "                if dic[s[i]] != s[j] and dic[s[j]]!= s[i]:\n",
    "                    \n",
    "                    return False\n",
    "            else:\n",
    "                return False\n",
    "            if i == j:\n",
    "                if s[i] not in dic:\n",
    "                    return False\n",
    "            i +=1\n",
    "            j -= 1\n",
    "        return True\n",
    "        \n",
    "strobogramatic_num(\"88\")\n",
    "    "
   ]
  },
  {
   "cell_type": "markdown",
   "metadata": {},
   "source": [
    "#### Question 3\n",
    "\n",
    "Given two non-negative integers, num1 and num2 represented as string, return *the sum of* num1 *and* num2 *as a string*.\n",
    "\n",
    "You must solve the problem without using any built-in library for handling large integers (such as BigInteger). You must also not convert the inputs to integers directly.\n",
    "\n",
    "**Example 1:**\n",
    "\n",
    "**Input:** num1 = \"11\", num2 = \"123\"\n",
    "\n",
    "**Output:**\n",
    "\n",
    "\"134\""
   ]
  },
  {
   "cell_type": "code",
   "execution_count": 100,
   "metadata": {},
   "outputs": [
    {
     "data": {
      "text/plain": [
       "'110'"
      ]
     },
     "execution_count": 100,
     "metadata": {},
     "output_type": "execute_result"
    }
   ],
   "source": [
    "def add_str(s1,s2):\n",
    "    \n",
    "    i = len(s1)-1\n",
    "    j = len(s2)-1\n",
    "    \n",
    "    carry = 0\n",
    "    result = []\n",
    "    while i>=0 or j>=0 or carry>0:\n",
    "        d1 = int(s1[i]) if i>= 0 else 0\n",
    "        d2= int(s2[j]) if i>= 0 else 0\n",
    "        \n",
    "        sum_ = int(d1)+ int(d2) + carry\n",
    "        unit = sum_% 10\n",
    "        carry = sum_//10\n",
    "        result.insert(0,str(unit))\n",
    "        i -= 1\n",
    "        j -= 1\n",
    "   \n",
    "\n",
    "\n",
    "    return \"\".join(result)\n",
    "add_str(\"99\",\"11\")\n",
    "    "
   ]
  },
  {
   "cell_type": "markdown",
   "metadata": {},
   "source": [
    "#### question 4\n",
    "Given a string s, reverse the order of characters in each word within a sentence while still preserving whitespace and initial word order.\n",
    "\n",
    "**Example 1:**\n",
    "\n",
    "**Input:** s = \"Let's take LeetCode contest\"\n",
    "\n",
    "**Output:** \"s'teL ekat edoCteeL tsetnoc\""
   ]
  },
  {
   "cell_type": "code",
   "execution_count": 67,
   "metadata": {},
   "outputs": [
    {
     "data": {
      "text/plain": [
       "\"s'teL ekat edoCteeL tsetnoc\""
      ]
     },
     "execution_count": 67,
     "metadata": {},
     "output_type": "execute_result"
    }
   ],
   "source": [
    "def reverse_charecter(s):\n",
    "    temp = s.split()\n",
    "    temp = [ele[::-1] for ele in temp]\n",
    "    temp = \" \".join(temp)\n",
    "    return temp\n",
    "\n",
    "reverse_charecter(\"Let's take LeetCode contest\")"
   ]
  },
  {
   "cell_type": "code",
   "execution_count": 72,
   "metadata": {},
   "outputs": [
    {
     "data": {
      "text/plain": [
       "\"s'teL ekat edoCteeL tsetnoc\""
      ]
     },
     "execution_count": 72,
     "metadata": {},
     "output_type": "execute_result"
    }
   ],
   "source": [
    "def reverse_words(s):\n",
    "   \n",
    "    chars = list(s)\n",
    "\n",
    "    \n",
    "    def reverse_word(start, end):\n",
    "        while start < end:\n",
    "            chars[start], chars[end] = chars[end], chars[start]\n",
    "            start += 1\n",
    "            end -= 1\n",
    "\n",
    "    start = 0\n",
    "    for i in range(len(chars)):\n",
    "        if chars[i] == ' ':\n",
    "            reverse_word(start, i - 1)\n",
    "            start = i + 1\n",
    "    reverse_word(start, len(chars) - 1)\n",
    "\n",
    "    reversed_sentence = ''.join(chars)\n",
    "\n",
    "    return reversed_sentence\n",
    "\n",
    "reverse_words(\"Let's take LeetCode contest\")        \n",
    "            "
   ]
  },
  {
   "cell_type": "markdown",
   "metadata": {},
   "source": [
    "#### question 5\n",
    "Given a string s and an integer k, reverse the first k characters for every 2k characters counting from the start of the string.\n",
    "\n",
    "If there are fewer than k characters left, reverse all of them. If there are less than 2k but greater than or equal to k characters, then reverse the first k characters and leave the other as original.\n",
    "\n",
    "**Example 1:**\n",
    "\n",
    "**Input:** s = \"abcdefg\", k = 2\n",
    "\n",
    "**Output:**\n",
    "\n",
    "\"bacdfeg\""
   ]
  },
  {
   "cell_type": "code",
   "execution_count": 74,
   "metadata": {},
   "outputs": [
    {
     "data": {
      "text/plain": [
       "'bacdfeg'"
      ]
     },
     "execution_count": 74,
     "metadata": {},
     "output_type": "execute_result"
    }
   ],
   "source": [
    "def reverse_string(s, k):\n",
    "    chars = list(s)\n",
    "    n = len(chars)\n",
    "\n",
    "    for i in range(0, n, 2*k):\n",
    "        left = i\n",
    "        right = min(i + k - 1, n - 1)\n",
    "\n",
    "        while left < right:\n",
    "            chars[left], chars[right] = chars[right], chars[left]\n",
    "            left += 1\n",
    "            right -= 1\n",
    "\n",
    "    reversed_string = ''.join(chars)\n",
    "    return reversed_string\n",
    "\n",
    "reverse_string(\"abcdefg\",2)"
   ]
  },
  {
   "cell_type": "markdown",
   "metadata": {},
   "source": [
    "#### Question 6\n",
    "Given two strings s and goal, return true *if and only if* s *can become* goal *after some number of **shifts** on* s.\n",
    "\n",
    "A **shift** on s consists of moving the leftmost character of s to the rightmost position.\n",
    "\n",
    "- For example, if s = \"abcde\", then it will be \"bcdea\" after one shift.\n",
    "\n",
    "**Example 1:**\n",
    "\n",
    "**Input:** s = \"abcde\", goal = \"cdeab\"\n",
    "\n",
    "**Output:**\n",
    "\n",
    "true"
   ]
  },
  {
   "cell_type": "code",
   "execution_count": 77,
   "metadata": {},
   "outputs": [
    {
     "data": {
      "text/plain": [
       "True"
      ]
     },
     "execution_count": 77,
     "metadata": {},
     "output_type": "execute_result"
    }
   ],
   "source": [
    "def shifts_to_goal(s,goal):\n",
    "    if len(s) == len(goal):\n",
    "        dic = {}\n",
    "        for e in s:\n",
    "            if e not in dic:\n",
    "                dic[e] = True\n",
    "        for e in goal:\n",
    "            if e not in dic:\n",
    "                return False\n",
    "        else:\n",
    "            return True\n",
    "    else:\n",
    "        return False\n",
    "    \n",
    "shifts_to_goal(\"abcde\",\"cdeab\")"
   ]
  },
  {
   "cell_type": "markdown",
   "metadata": {},
   "source": [
    "#### Question 7\n",
    "<aside>\n",
    "💡 ****\n",
    "\n",
    "Given two strings s and t, return true *if they are equal when both are typed into empty text editors*. '#' means a backspace character.\n",
    "\n",
    "Note that after backspacing an empty text, the text will continue empty.\n",
    "\n",
    "**Example 1:**\n",
    "\n",
    "**Input:** s = \"ab#c\", t = \"ad#c\"\n",
    "\n",
    "**Output:** true\n",
    "\n",
    "**Explanation:**\n",
    "\n",
    "Both s and t become \"ac\".\n",
    "\n",
    "</aside>"
   ]
  },
  {
   "cell_type": "code",
   "execution_count": 86,
   "metadata": {},
   "outputs": [
    {
     "name": "stdout",
     "output_type": "stream",
     "text": [
      "ac ac\n"
     ]
    },
    {
     "data": {
      "text/plain": [
       "True"
      ]
     },
     "execution_count": 86,
     "metadata": {},
     "output_type": "execute_result"
    }
   ],
   "source": [
    "def backspacing(s,t):\n",
    "    char1 =[]\n",
    "    char2 = []\n",
    "    for e in s:\n",
    "        if e != \"#\":\n",
    "            char1.append(e)\n",
    "        else:\n",
    "            if len(char1)>0:\n",
    "                char1.pop()\n",
    "            else:\n",
    "                continue\n",
    "    for e in t:\n",
    "        if e != \"#\":\n",
    "            char2.append(e)\n",
    "        else:\n",
    "            if len(char2)>0:\n",
    "                char2.pop()\n",
    "            else:\n",
    "                continue\n",
    "    char1 = \"\".join(char1)\n",
    "    char2 = \"\".join(char2)\n",
    "    print(char1,char2)\n",
    "    return True if char1 == char2 else False\n",
    "\n",
    "backspacing(\"ab#c\",\"#ad#c\")"
   ]
  },
  {
   "cell_type": "markdown",
   "metadata": {},
   "source": [
    "#### Question 8\n",
    "<aside>\n",
    "💡 ****\n",
    "\n",
    "You are given an array coordinates, coordinates[i] = [x, y], where [x, y] represents the coordinate of a point. Check if these points make a straight line in the XY plane.\n",
    "\n",
    "**Example 1:**\n",
    "\n",
    "![Screenshot 2023-05-29 010117.png](https://s3-us-west-2.amazonaws.com/secure.notion-static.com/012b0a97-4e4b-49b6-bc95-0531fc712978/Screenshot_2023-05-29_010117.png)\n",
    "\n",
    "\n",
    "\n",
    "**Input:** coordinates = [[1,2],[2,3],[3,4],[4,5],[5,6],[6,7]]\n",
    "\n",
    "**Output:** true\n",
    "\n",
    "</aside>"
   ]
  },
  {
   "cell_type": "code",
   "execution_count": 94,
   "metadata": {},
   "outputs": [
    {
     "data": {
      "text/plain": [
       "True"
      ]
     },
     "execution_count": 94,
     "metadata": {},
     "output_type": "execute_result"
    }
   ],
   "source": [
    "\n",
    "\n",
    "def check_straight_line(cords):\n",
    "    # get the slope\n",
    "    p1 = cords[1]\n",
    "    p2 = cords[0]\n",
    "    m = (p1[1]- p2[1])/(p1[0]- p2[0])\n",
    "    ## find the intercept\n",
    "    c = p1[1] - m*p1[0]\n",
    "    \n",
    "    for e in cords:\n",
    "        if e[1] != m * e[0] + c:\n",
    "            return False\n",
    "    else:\n",
    "        return True\n",
    "\n",
    "check_straight_line([[1,2],[2,3],[3,4],[4,5],[5,6],[6,7],[7,8]])\n",
    "    \n",
    "        "
   ]
  },
  {
   "cell_type": "code",
   "execution_count": null,
   "metadata": {},
   "outputs": [],
   "source": []
  }
 ],
 "metadata": {
  "kernelspec": {
   "display_name": "Python 3",
   "language": "python",
   "name": "python3"
  },
  "language_info": {
   "codemirror_mode": {
    "name": "ipython",
    "version": 3
   },
   "file_extension": ".py",
   "mimetype": "text/x-python",
   "name": "python",
   "nbconvert_exporter": "python",
   "pygments_lexer": "ipython3",
   "version": "3.7.9"
  }
 },
 "nbformat": 4,
 "nbformat_minor": 4
}
