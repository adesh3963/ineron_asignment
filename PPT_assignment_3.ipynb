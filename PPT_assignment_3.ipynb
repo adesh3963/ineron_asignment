{
 "cells": [
  {
   "cell_type": "markdown",
   "metadata": {},
   "source": [
    "### Question 1\n",
    "Given an integer array nums of length n and an integer target, find three integers\n",
    "in nums such that the sum is closest to the target.\n",
    "Return the sum of the three integers.\n",
    "\n",
    "You may assume that each input would have exactly one solution.\n",
    "\n",
    "Example 1:\n",
    "Input: nums = [-1,2,1,-4], target = 1\n",
    "Output: 2\n",
    "\n",
    "Explanation: The sum that is closest to the target is 2. (-1 + 2 + 1 = 2)."
   ]
  },
  {
   "cell_type": "code",
   "execution_count": 11,
   "metadata": {},
   "outputs": [
    {
     "data": {
      "text/plain": [
       "2"
      ]
     },
     "execution_count": 11,
     "metadata": {},
     "output_type": "execute_result"
    }
   ],
   "source": [
    "###\n",
    "def find_three_integers_closest_sum(lis,target):\n",
    "    min_diff = float(\"inf\")\n",
    "    sum_ = None\n",
    "    for i in range(len(lis)):\n",
    "        for j in range(i+1,len(lis)):\n",
    "            for k in range(j+1,len(lis)):\n",
    "                diff= abs(target - (lis[i]+lis[j]+lis[k]))\n",
    "                if diff < min_diff:\n",
    "                    min_diff = diff\n",
    "                    sum_ = lis[i]+lis[j]+lis[k]\n",
    "    return sum_\n",
    "\n",
    "find_three_integers_closest_sum([-1,2,1,-4],1)                 \n",
    "                "
   ]
  },
  {
   "cell_type": "code",
   "execution_count": 12,
   "metadata": {},
   "outputs": [
    {
     "data": {
      "text/plain": [
       "2"
      ]
     },
     "execution_count": 12,
     "metadata": {},
     "output_type": "execute_result"
    }
   ],
   "source": [
    "### we can use two pointer approach\n",
    "## with sorting\n",
    "def three_sum_closest(lis,target):\n",
    "    lis.sort()\n",
    "    min_diff = float(\"inf\")\n",
    "    sum_ = None\n",
    "    for i in range(len(lis)-2):\n",
    "        j = i+ 1\n",
    "        k = len(lis) - 1\n",
    "        while j < k:\n",
    "            current_sum = lis[i]+ lis[j]+ lis[k]\n",
    "            if abs(current_sum - target) < min_diff:\n",
    "                min_diff  = abs(current_sum - target)\n",
    "                sum_= current_sum\n",
    "            if current_sum == target:\n",
    "                return current_sum\n",
    "            elif current_sum> target:\n",
    "                k -= 1\n",
    "            else:\n",
    "                j += 1\n",
    "    return sum_\n",
    "three_sum_closest([-1,2,1,-4],1)"
   ]
  },
  {
   "cell_type": "markdown",
   "metadata": {},
   "source": [
    "<div spellcheck=\"true\" placeholder=\"Type something…\" data-content-editable-leaf=\"true\" style=\"max-width: 100%; width: 100%; white-space: pre-wrap; word-break: break-word; caret-color: rgba(255, 255, 255, 0.81); padding-left: 2px; padding-right: 2px;\" contenteditable=\"false\"><span style=\"font-weight:600\" data-token-index=\"0\" class=\"notion-enable-hover\">Question 2</span>\n",
    "Given an array nums of n integers, return an array of all the unique quadruplets\n",
    "[nums[a], nums[b], nums[c], nums[d]] such that:\n",
    "           ● 0 &lt;= a, b, c, d &lt; n\n",
    "           ● a, b, c, and d are distinct.\n",
    "           ● nums[a] + nums[b] + nums[c] + nums[d] == target\n",
    "\n",
    "You may return the answer in any order.\n",
    "\n",
    "<span style=\"font-weight:600\" data-token-index=\"2\" class=\"notion-enable-hover\">Example 1:</span>\n",
    "Input: nums = [1,0,-1,0,-2,2], target = 0\n",
    "Output: [[-2,-1,1,2],[-2,0,0,2],[-1,0,0,1]]</div>"
   ]
  },
  {
   "cell_type": "code",
   "execution_count": 15,
   "metadata": {},
   "outputs": [
    {
     "data": {
      "text/plain": [
       "[[1, 0, -1, 0], [1, -1, -2, 2], [0, 0, -2, 2]]"
      ]
     },
     "execution_count": 15,
     "metadata": {},
     "output_type": "execute_result"
    }
   ],
   "source": [
    "### brute force\n",
    "def quadruplets(lis,target):\n",
    "    temp= []\n",
    "    for i in range(len(lis)):\n",
    "        for j in range(i+1,len(lis)):\n",
    "            for k in range(j+1,len(lis)):\n",
    "                for l in range(k+1,len(lis)):\n",
    "                    sum_ = lis[i]+ lis[j] + lis[k] + lis[l]\n",
    "                    if sum_ == target:\n",
    "                        temp.append([lis[i],lis[j],lis[k],lis[l]])\n",
    "    return temp\n",
    "quadruplets([1,0,-1,0,-2,2],0)\n",
    "                        "
   ]
  },
  {
   "cell_type": "markdown",
   "metadata": {},
   "source": [
    "## Question 3\n",
    "<aside> \n",
    "A permutation of an array of integers is an arrangement of its members into a\n",
    "sequence or linear order.\n",
    "\n",
    "For example, for arr = [1,2,3], the following are all the permutations of arr:\n",
    "[1,2,3], [1,3,2], [2, 1, 3], [2, 3, 1], [3,1,2], [3,2,1].\n",
    "\n",
    "The next permutation of an array of integers is the next lexicographically greater\n",
    "permutation of its integer. More formally, if all the permutations of the array are\n",
    "sorted in one container according to their lexicographical order, then the next\n",
    "permutation of that array is the permutation that follows it in the sorted container.\n",
    "\n",
    "If such an arrangement is not possible, the array must be rearranged as the\n",
    "lowest possible order (i.e., sorted in ascending order).\n",
    "\n",
    "● For example, the next permutation of arr = [1,2,3] is [1,3,2].\n",
    "● Similarly, the next permutation of arr = [2,3,1] is [3,1,2].\n",
    "● While the next permutation of arr = [3,2,1] is [1,2,3] because [3,2,1] does not\n",
    "have a lexicographical larger rearrangement.\n",
    "\n",
    "Given an array of integers nums, find the next permutation of nums.\n",
    "The replacement must be in place and use only constant extra memory.\n",
    "\n",
    "**Example 1:**\n",
    "Input: nums = [1,2,3]\n",
    "Output: [1,3,2]\n",
    "\n",
    "</aside>"
   ]
  },
  {
   "cell_type": "markdown",
   "metadata": {},
   "source": [
    "### brute force\n",
    "find all possible permutation\n",
    "\n",
    "arrange them in sorted manner (accending)\n",
    "\n",
    "find the index of given list in permutations\n",
    "\n",
    "return the list present at index + 1\n",
    "\n",
    "if index == len(permutations)-1\n",
    "\n",
    "return list at index 0"
   ]
  },
  {
   "cell_type": "markdown",
   "metadata": {},
   "source": [
    "### optimal approach"
   ]
  },
  {
   "cell_type": "code",
   "execution_count": 23,
   "metadata": {},
   "outputs": [],
   "source": [
    "# understood the algorithm from internet\n",
    "# now writing the code myself\n",
    "\n",
    "def next_permutation(lis):\n",
    "    i = len(lis)-1\n",
    "    index = -1 # if given list is last permutation\n",
    "    while i > 0:\n",
    "        ## find the breakpoint\n",
    "        if lis[i-1]< lis[i]:\n",
    "            index = i-1 # this index element has to swap with just greater than that\n",
    "            break\n",
    "        i -= 1\n",
    "    if index != -1:\n",
    "        i = len(lis)-1\n",
    "        while i > index:\n",
    "            if lis[i] > lis[index]:\n",
    "                # swap it\n",
    "                lis[i],lis[index]= lis[index],lis[i]\n",
    "                break\n",
    "            i -= 1\n",
    "        # now place all element in decresing order after index\n",
    "        i = len(lis)-1\n",
    "        j= index+1\n",
    "        while j<i:\n",
    "            lis[j],lis[i]= lis[i],lis[j]\n",
    "            j += 1\n",
    "            i -= 1\n",
    "    else:\n",
    "        i = len(lis)-1\n",
    "        j= 0\n",
    "        while j<i:\n",
    "            lis[j],lis[i]= lis[i],lis[j]\n",
    "            j += 1\n",
    "            i -= 1\n",
    "        \n",
    "    return lis\n",
    "    \n"
   ]
  },
  {
   "cell_type": "code",
   "execution_count": 24,
   "metadata": {},
   "outputs": [
    {
     "data": {
      "text/plain": [
       "[1, 3, 2]"
      ]
     },
     "execution_count": 24,
     "metadata": {},
     "output_type": "execute_result"
    }
   ],
   "source": [
    "next_permutation([1,2,3])"
   ]
  },
  {
   "cell_type": "code",
   "execution_count": 25,
   "metadata": {},
   "outputs": [
    {
     "data": {
      "text/plain": [
       "[1, 2, 3]"
      ]
     },
     "execution_count": 25,
     "metadata": {},
     "output_type": "execute_result"
    }
   ],
   "source": [
    "next_permutation([3,2,1])"
   ]
  },
  {
   "cell_type": "code",
   "execution_count": 26,
   "metadata": {},
   "outputs": [
    {
     "data": {
      "text/plain": [
       "[3, 1, 2]"
      ]
     },
     "execution_count": 26,
     "metadata": {},
     "output_type": "execute_result"
    }
   ],
   "source": [
    "next_permutation([2,3,1])"
   ]
  },
  {
   "cell_type": "markdown",
   "metadata": {},
   "source": [
    "### Question 4\n",
    "Given a sorted array of distinct integers and a target value, return the index if the\n",
    "target is found. If not, return the index where it would be if it were inserted in\n",
    "order.\n",
    "\n",
    "You must write an algorithm with O(log n) runtime complexity.\n",
    "\n",
    "Example 1:\n",
    "Input: nums = [1,3,5,6], target = 5\n",
    "Output: 2"
   ]
  },
  {
   "cell_type": "code",
   "execution_count": 38,
   "metadata": {},
   "outputs": [],
   "source": [
    "#since sorted array is given\n",
    "#we can use binary search algo\n",
    "\n",
    "def find_target(lis,target):\n",
    "    left =  0\n",
    "    right= len(lis) - 1\n",
    "    while left <= right:\n",
    "        mid = (left + right)//2\n",
    "        if lis[mid]== target:\n",
    "            return mid\n",
    "        if lis[mid] < target:\n",
    "            left = mid +1 \n",
    "        else:\n",
    "            right = mid - 1\n",
    "    else:\n",
    "        return left\n",
    "\n",
    "        "
   ]
  },
  {
   "cell_type": "code",
   "execution_count": 39,
   "metadata": {},
   "outputs": [
    {
     "data": {
      "text/plain": [
       "2"
      ]
     },
     "execution_count": 39,
     "metadata": {},
     "output_type": "execute_result"
    }
   ],
   "source": [
    "find_target([1,3,5,6],5)"
   ]
  },
  {
   "cell_type": "code",
   "execution_count": 40,
   "metadata": {},
   "outputs": [
    {
     "data": {
      "text/plain": [
       "4"
      ]
     },
     "execution_count": 40,
     "metadata": {},
     "output_type": "execute_result"
    }
   ],
   "source": [
    "find_target([1,3,5,6],9)"
   ]
  },
  {
   "cell_type": "markdown",
   "metadata": {},
   "source": [
    "### Question 5\n",
    "<aside>\n",
    "💡 ****\n",
    "You are given a large integer represented as an integer array digits, where each\n",
    "digits[i] is the ith digit of the integer. The digits are ordered from most significant\n",
    "to least significant in left-to-right order. The large integer does not contain any\n",
    "leading 0's.\n",
    "\n",
    "Increment the large integer by one and return the resulting array of digits.\n",
    "\n",
    "**Example 1:**\n",
    "Input: digits = [1,2,3]\n",
    "Output: [1,2,4]\n",
    "\n",
    "**Explanation:** The array represents the integer 123.\n",
    "Incrementing by one gives 123 + 1 = 124.\n",
    "Thus, the result should be [1,2,4].\n",
    "\n",
    "</aside>"
   ]
  },
  {
   "cell_type": "code",
   "execution_count": 60,
   "metadata": {},
   "outputs": [
    {
     "data": {
      "text/plain": [
       "[1, 0, 0, 0]"
      ]
     },
     "execution_count": 60,
     "metadata": {},
     "output_type": "execute_result"
    }
   ],
   "source": [
    "def increment_by_one(lis):\n",
    "    carry = 1\n",
    "    for i in range(len(lis)-1,-1,-1):\n",
    "        sum_ = lis[i] + carry\n",
    "        \n",
    "        unit = sum_% 10\n",
    "        carry = sum_ // 10\n",
    "        lis[i]= unit\n",
    "    if carry > 0:\n",
    "        lis.insert(0,carry)\n",
    "    return lis\n",
    "\n",
    "        \n",
    "increment_by_one([9,9,9])\n",
    "            \n",
    "        "
   ]
  },
  {
   "cell_type": "markdown",
   "metadata": {},
   "source": [
    "### Question 6\n",
    "Given a non-empty array of integers nums, every element appears twice except\n",
    "for one. Find that single one.\n",
    "\n",
    "You must implement a solution with a linear runtime complexity and use only\n",
    "constant extra space.\n",
    "\n",
    "Example 1:\n",
    "Input: nums = [2,2,1]\n",
    "Output: 1"
   ]
  },
  {
   "cell_type": "code",
   "execution_count": 61,
   "metadata": {},
   "outputs": [
    {
     "data": {
      "text/plain": [
       "1"
      ]
     },
     "execution_count": 61,
     "metadata": {},
     "output_type": "execute_result"
    }
   ],
   "source": [
    "### brute force\n",
    "\n",
    "def find_single(lis):\n",
    "    dic = {}\n",
    "    for e in lis:\n",
    "        if dic.get(e):\n",
    "            dic[e] += 1\n",
    "        else:\n",
    "            dic[e] = 1\n",
    "    for k,v in dic.items():\n",
    "        if v == 1:\n",
    "            return k\n",
    "find_single([2,2,3,3,1])"
   ]
  },
  {
   "cell_type": "code",
   "execution_count": 67,
   "metadata": {},
   "outputs": [],
   "source": [
    "## XoR operation"
   ]
  },
  {
   "cell_type": "code",
   "execution_count": 68,
   "metadata": {},
   "outputs": [
    {
     "data": {
      "text/plain": [
       "0"
      ]
     },
     "execution_count": 68,
     "metadata": {},
     "output_type": "execute_result"
    }
   ],
   "source": [
    "1 ^ 1"
   ]
  },
  {
   "cell_type": "code",
   "execution_count": 69,
   "metadata": {},
   "outputs": [
    {
     "data": {
      "text/plain": [
       "0"
      ]
     },
     "execution_count": 69,
     "metadata": {},
     "output_type": "execute_result"
    }
   ],
   "source": [
    "5 ^ 5"
   ]
  },
  {
   "cell_type": "code",
   "execution_count": 74,
   "metadata": {},
   "outputs": [
    {
     "data": {
      "text/plain": [
       "6"
      ]
     },
     "execution_count": 74,
     "metadata": {},
     "output_type": "execute_result"
    }
   ],
   "source": [
    "5 ^ 6 ^5 "
   ]
  },
  {
   "cell_type": "code",
   "execution_count": 75,
   "metadata": {},
   "outputs": [],
   "source": [
    "### repeating elements cancle each other"
   ]
  },
  {
   "cell_type": "code",
   "execution_count": 80,
   "metadata": {},
   "outputs": [
    {
     "data": {
      "text/plain": [
       "1"
      ]
     },
     "execution_count": 80,
     "metadata": {},
     "output_type": "execute_result"
    }
   ],
   "source": [
    "def find_single_using_XOR(lis):\n",
    "    result = 0\n",
    "    for e in lis:\n",
    "        result = result ^ e\n",
    "    return result\n",
    "find_single_using_XOR([2,2,1])\n",
    "    "
   ]
  },
  {
   "cell_type": "markdown",
   "metadata": {},
   "source": [
    " ### Question 7\n",
    "You are given an inclusive range [lower, upper] and a sorted unique integer array\n",
    "nums, where all elements are within the inclusive range.\n",
    "\n",
    "A number x is considered missing if x is in the range [lower, upper] and x is not in\n",
    "nums.\n",
    "\n",
    "Return the shortest sorted list of ranges that exactly covers all the missing\n",
    "numbers. That is, no element of nums is included in any of the ranges, and each\n",
    "missing number is covered by one of the ranges.\n",
    "\n",
    "Example 1:\n",
    "Input: nums = [0,1,3,50,75], lower = 0, upper = 99\n",
    "Output: [[2,2],[4,49],[51,74],[76,99]]\n",
    "\n",
    "Explanation: The ranges are:\n",
    "[2,2]\n",
    "[4,49]\n",
    "[51,74]\n",
    "[76,99]"
   ]
  },
  {
   "cell_type": "markdown",
   "metadata": {},
   "source": [
    "### Question 8\n",
    "Given an array of meeting time intervals where intervals[i] = [starti, endi],\n",
    "determine if a person could attend all meetings.\n",
    "\n",
    "Example 1:\n",
    "Input: intervals = [[0,30],[5,10],[15,20]]\n",
    "Output: false"
   ]
  },
  {
   "cell_type": "code",
   "execution_count": 81,
   "metadata": {},
   "outputs": [],
   "source": [
    "#there should be  no overlap to return true"
   ]
  },
  {
   "cell_type": "code",
   "execution_count": null,
   "metadata": {},
   "outputs": [],
   "source": []
  }
 ],
 "metadata": {
  "kernelspec": {
   "display_name": "Python 3",
   "language": "python",
   "name": "python3"
  },
  "language_info": {
   "codemirror_mode": {
    "name": "ipython",
    "version": 3
   },
   "file_extension": ".py",
   "mimetype": "text/x-python",
   "name": "python",
   "nbconvert_exporter": "python",
   "pygments_lexer": "ipython3",
   "version": "3.7.9"
  }
 },
 "nbformat": 4,
 "nbformat_minor": 4
}
