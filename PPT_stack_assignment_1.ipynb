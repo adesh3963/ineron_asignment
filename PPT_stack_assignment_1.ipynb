{
 "cells": [
  {
   "cell_type": "markdown",
   "metadata": {},
   "source": [
    "# Question 1\n",
    "<aside>\n",
    "💡 ****\n",
    "\n",
    "Given an array **arr[ ]** of size **N** having elements, the task is to find the next greater element for each element of the array in order of their appearance in the array.Next greater element of an element in the array is the nearest element on the right which is greater than the current element.If there does not exist next greater of current element, then next greater element for current element is -1. For example, next greater of the last element is always -1.\n",
    "\n",
    "</aside>"
   ]
  },
  {
   "cell_type": "raw",
   "metadata": {},
   "source": [
    "Input:\n",
    "N = 4, arr[] = [1 3 2 4]\n",
    "Output:\n",
    "3 4 4 -1\n",
    "Explanation:\n",
    "In the array, the next larger element\n",
    "to 1 is 3 , 3 is 4 , 2 is 4 and for 4 ?\n",
    "since it doesn't exist, it is -1."
   ]
  },
  {
   "cell_type": "markdown",
   "metadata": {},
   "source": [
    "## brute force"
   ]
  },
  {
   "cell_type": "code",
   "execution_count": 2,
   "metadata": {},
   "outputs": [
    {
     "data": {
      "text/plain": [
       "[3, 4, 4, -1]"
      ]
     },
     "execution_count": 2,
     "metadata": {},
     "output_type": "execute_result"
    }
   ],
   "source": [
    "def next_greater(arr):\n",
    "    temp = []\n",
    "    for i in range(len(arr)):\n",
    "        for j in range(i+1,len(arr)):\n",
    "            if arr[j]>arr[i]:\n",
    "                temp.append(arr[j])\n",
    "                break\n",
    "        else:\n",
    "            temp.append(-1)\n",
    "    return temp\n",
    "\n",
    "next_greater([1,3,2,4])\n",
    "            "
   ]
  },
  {
   "cell_type": "markdown",
   "metadata": {},
   "source": [
    "## Using Stack properties "
   ]
  },
  {
   "cell_type": "code",
   "execution_count": 18,
   "metadata": {},
   "outputs": [
    {
     "data": {
      "text/plain": [
       "[3, 4, 4, -1]"
      ]
     },
     "execution_count": 18,
     "metadata": {},
     "output_type": "execute_result"
    }
   ],
   "source": [
    "def next_grater(arr):\n",
    "    stack = []\n",
    "    result = []\n",
    "\n",
    "    for i in range(len(arr)-1,-1,-1):\n",
    "        \n",
    "        # pop the stack until you find greter element or stack becomes empty\n",
    "        while stack and stack[-1]<=arr[i]:\n",
    "            stack.pop()\n",
    "        if stack:    \n",
    "            result.append(stack[-1])\n",
    "            stack.append(arr[i])\n",
    "        else:\n",
    "            result.append(-1)\n",
    "        stack.append(arr[i])\n",
    "    result.reverse()\n",
    "    return result\n",
    "\n",
    "next_grater([1,3,2,4])\n",
    "            \n",
    "            "
   ]
  },
  {
   "cell_type": "markdown",
   "metadata": {},
   "source": [
    "# Question 2\n",
    "<aside>\n",
    "💡 **Question 2**\n",
    "\n",
    "Given an array **a** of integers of length **n**, find the nearest smaller number for every element such that the smaller element is on left side.If no small element present on the left print -1.\n",
    "\n",
    "**Example 1:**\n",
    "\n",
    "</aside>"
   ]
  },
  {
   "cell_type": "raw",
   "metadata": {},
   "source": [
    "Input: n = 3\n",
    "a = {1, 6, 2}\n",
    "Output: -1 1 1\n",
    "Explaination: There is no number at the\n",
    "left of 1. Smaller number than 6 and 2 is 1.\n",
    "\n",
    "Input: n = 6\n",
    "a = {1, 5, 0, 3, 4, 5}\n",
    "Output: -1 1 -1 0 3 4\n",
    "Explaination: U it is easy to see\n",
    "the smaller numbers. But for 4 the smaller\n",
    "numbers are 1, 0 and 3. But among them 3\n",
    "is closest. Similary for 5 it is 4."
   ]
  },
  {
   "cell_type": "code",
   "execution_count": 19,
   "metadata": {},
   "outputs": [
    {
     "data": {
      "text/plain": [
       "[-1, 1, -1, 0, 3, 4]"
      ]
     },
     "execution_count": 19,
     "metadata": {},
     "output_type": "execute_result"
    }
   ],
   "source": [
    "def small_left(arr):\n",
    "    stack = []\n",
    "    result = []\n",
    "    for i in range(len(arr)):\n",
    "        while stack and stack[-1]> arr[i]:\n",
    "            stack.pop()\n",
    "        if stack:\n",
    "            result.append(stack[-1])\n",
    "        else:\n",
    "            result.append(-1)\n",
    "        stack.append(arr[i])\n",
    "    return result\n",
    "small_left([1, 5, 0, 3, 4, 5])"
   ]
  },
  {
   "cell_type": "markdown",
   "metadata": {},
   "source": [
    "# question 3\n",
    "Implement a Stack using two queues q1 and q2."
   ]
  },
  {
   "cell_type": "code",
   "execution_count": 54,
   "metadata": {},
   "outputs": [],
   "source": [
    "from collections import deque\n",
    "\n",
    "class stack:\n",
    "    def __init__(self):\n",
    "        self.q1 = deque()\n",
    "        self.q2 = deque()\n",
    "    def pop(self):\n",
    "        if not self.q1:\n",
    "            return None\n",
    "        else:\n",
    "            while len(self.q1)>1:\n",
    "                e = self.q1.popleft()\n",
    "                self.q2.append(e)\n",
    "            ele =self.q1.popleft()\n",
    "            self.q1, self.q2 = self.q2 , self.q1\n",
    "            return ele\n",
    "    def push(self,a):\n",
    "        self.q1.append(a)\n",
    "    def peek(self):\n",
    "        if not self.q1():\n",
    "            return None\n",
    "        while len(self.q1)>1:\n",
    "            self.q2.append(self.q1.popleft())\n",
    "        ele = self.q1[0]\n",
    "        self.q2.append(self.q1.popleft())\n",
    "        self.q1, self.q2 = self.q2 , self.q1\n",
    "        return ele\n",
    "    def empty(self):\n",
    "        return True if not self.q1 else False\n",
    "    \n",
    "    def elements(self):\n",
    "        if self.q1:\n",
    "            print(list(self.q1))\n",
    "        else:\n",
    "            print(\"Empty\")\n",
    "    \n"
   ]
  },
  {
   "cell_type": "code",
   "execution_count": 55,
   "metadata": {},
   "outputs": [
    {
     "data": {
      "text/plain": [
       "True"
      ]
     },
     "execution_count": 55,
     "metadata": {},
     "output_type": "execute_result"
    }
   ],
   "source": [
    "stk = stack()\n",
    "stk.empty()"
   ]
  },
  {
   "cell_type": "code",
   "execution_count": 56,
   "metadata": {},
   "outputs": [],
   "source": [
    "stk.push(2)\n",
    "stk.push(5)\n",
    "stk.push(6)"
   ]
  },
  {
   "cell_type": "code",
   "execution_count": 57,
   "metadata": {},
   "outputs": [
    {
     "name": "stdout",
     "output_type": "stream",
     "text": [
      "[2, 5, 6]\n"
     ]
    }
   ],
   "source": [
    "stk.elements()"
   ]
  },
  {
   "cell_type": "code",
   "execution_count": 58,
   "metadata": {},
   "outputs": [
    {
     "data": {
      "text/plain": [
       "6"
      ]
     },
     "execution_count": 58,
     "metadata": {},
     "output_type": "execute_result"
    }
   ],
   "source": [
    "stk.pop()"
   ]
  },
  {
   "cell_type": "code",
   "execution_count": 59,
   "metadata": {},
   "outputs": [
    {
     "name": "stdout",
     "output_type": "stream",
     "text": [
      "[2, 5]\n"
     ]
    }
   ],
   "source": [
    "stk.elements()"
   ]
  },
  {
   "cell_type": "markdown",
   "metadata": {},
   "source": [
    "# Question 4\n",
    "You are given a stack St. You have to reverse the stack using recursion."
   ]
  },
  {
   "cell_type": "raw",
   "metadata": {},
   "source": [
    "Input:St = {3,2,1,7,6}\n",
    "Output:{6,7,1,2,3}"
   ]
  },
  {
   "cell_type": "code",
   "execution_count": 67,
   "metadata": {},
   "outputs": [],
   "source": [
    "def insert_at_bottom(st,item):\n",
    "    if len(st) == 0:\n",
    "        st.append(item)\n",
    "    else:\n",
    "        e = st.pop()\n",
    "        insert_at_bottom(st,item)\n",
    "        st.append(e)\n",
    "def reverse(st):\n",
    "    if st:\n",
    "        e = st.pop()\n",
    "        reverse(st)\n",
    "        insert_at_bottom(st,e)\n",
    "    else:\n",
    "        return None\n",
    "\n"
   ]
  },
  {
   "cell_type": "code",
   "execution_count": 68,
   "metadata": {},
   "outputs": [
    {
     "name": "stdout",
     "output_type": "stream",
     "text": [
      "[6, 7, 1, 2, 3]\n"
     ]
    }
   ],
   "source": [
    "st = [3,2,1,7,6]\n",
    "reverse(st)\n",
    "print(st)"
   ]
  },
  {
   "cell_type": "markdown",
   "metadata": {},
   "source": [
    "# Question 5\n",
    "You are given a string S, the task is to reverse the string using stack."
   ]
  },
  {
   "cell_type": "code",
   "execution_count": 69,
   "metadata": {},
   "outputs": [
    {
     "data": {
      "text/plain": [
       "[6, 7, 1, 2, 3]"
      ]
     },
     "execution_count": 69,
     "metadata": {},
     "output_type": "execute_result"
    }
   ],
   "source": [
    "def reverse(st):\n",
    "    temp_st = []\n",
    "    while st:\n",
    "        temp_st.append(st.pop())\n",
    "    return temp_st\n",
    "\n",
    "\n",
    "st = [3,2,1,7,6]\n",
    "reverse(st)"
   ]
  },
  {
   "cell_type": "markdown",
   "metadata": {},
   "source": [
    "# question 6\n",
    "iven string S representing a postfix expression, the task is to evaluate the expression and find the final value. Operators will only include the basic arithmetic operators like *, /, + and -."
   ]
  },
  {
   "cell_type": "raw",
   "metadata": {},
   "source": [
    "Input: S = \"231*+9-\"\n",
    "Output: -4\n",
    "Explanation:\n",
    "After solving the given expression,\n",
    "we have -4 as result.\n",
    "\n",
    "Input: S = \"123+*8-\"\n",
    "Output: -3\n",
    "Explanation:\n",
    "After solving the given postfix\n",
    "expression, we have -3 as result."
   ]
  },
  {
   "cell_type": "code",
   "execution_count": 73,
   "metadata": {},
   "outputs": [
    {
     "data": {
      "text/plain": [
       "'-4'"
      ]
     },
     "execution_count": 73,
     "metadata": {},
     "output_type": "execute_result"
    }
   ],
   "source": [
    "def post_fix(s):\n",
    "    st= []\n",
    "    for e in s:\n",
    "        if e in [\"+\",\"-\",\"*\",\"/\"]:\n",
    "            num1 = st.pop()\n",
    "            num2 = st.pop()\n",
    "            result = num2 + e +  num1\n",
    "            result = eval(result)\n",
    "            st.append(str(result))\n",
    "        else:\n",
    "            st.append(e)\n",
    "    ans = \"\"\n",
    "    while st:\n",
    "        ans = st.pop() + ans\n",
    "    return ans\n",
    "\n",
    "post_fix(\"231*+9-\")"
   ]
  },
  {
   "cell_type": "code",
   "execution_count": 74,
   "metadata": {},
   "outputs": [
    {
     "data": {
      "text/plain": [
       "'-3'"
      ]
     },
     "execution_count": 74,
     "metadata": {},
     "output_type": "execute_result"
    }
   ],
   "source": [
    "post_fix(\"123+*8-\")"
   ]
  },
  {
   "cell_type": "markdown",
   "metadata": {},
   "source": [
    "# question 7\n",
    "<aside>\n",
    "💡 **Question 7**\n",
    "\n",
    "Design a stack that supports push, pop, top, and retrieving the minimum element in constant time.\n",
    "\n",
    "</aside>"
   ]
  },
  {
   "cell_type": "code",
   "execution_count": 9,
   "metadata": {},
   "outputs": [],
   "source": [
    "class min_stack:\n",
    "    \n",
    "    def __init__(self):\n",
    "        self.s = []\n",
    "        self.min_s = []\n",
    "    def pop(self):\n",
    "        if self.s:\n",
    "            if self.s[-1] ==self.min_s[-1]:\n",
    "                self.min_s.pop()\n",
    "                return self.s.pop()\n",
    "            else:\n",
    "                return self.s.pop()\n",
    "    def push(self,a):\n",
    "        if self.min_s:\n",
    "            if self.min_s[-1]>a:\n",
    "                self.min_s.append(a)\n",
    "            else:\n",
    "                pass\n",
    "        else:\n",
    "            self.min_s.append(a)\n",
    "        self.s.append(a)\n",
    "        \n",
    "    def minimun(self):\n",
    "        return self.min_s[-1]\n",
    "    \n",
    "st = min_stack()\n",
    "        "
   ]
  },
  {
   "cell_type": "code",
   "execution_count": 10,
   "metadata": {},
   "outputs": [],
   "source": [
    "st.push(2)\n",
    "st.push(4)\n",
    "st.push(6)\n",
    "st.push(7)\n",
    "st.push(1)"
   ]
  },
  {
   "cell_type": "code",
   "execution_count": 11,
   "metadata": {},
   "outputs": [
    {
     "data": {
      "text/plain": [
       "1"
      ]
     },
     "execution_count": 11,
     "metadata": {},
     "output_type": "execute_result"
    }
   ],
   "source": [
    "st.minimun()"
   ]
  },
  {
   "cell_type": "code",
   "execution_count": 12,
   "metadata": {},
   "outputs": [
    {
     "data": {
      "text/plain": [
       "1"
      ]
     },
     "execution_count": 12,
     "metadata": {},
     "output_type": "execute_result"
    }
   ],
   "source": [
    "st.pop()"
   ]
  },
  {
   "cell_type": "code",
   "execution_count": 13,
   "metadata": {},
   "outputs": [
    {
     "data": {
      "text/plain": [
       "2"
      ]
     },
     "execution_count": 13,
     "metadata": {},
     "output_type": "execute_result"
    }
   ],
   "source": [
    "st.minimun()"
   ]
  },
  {
   "cell_type": "code",
   "execution_count": null,
   "metadata": {},
   "outputs": [],
   "source": []
  }
 ],
 "metadata": {
  "kernelspec": {
   "display_name": "Python 3",
   "language": "python",
   "name": "python3"
  },
  "language_info": {
   "codemirror_mode": {
    "name": "ipython",
    "version": 3
   },
   "file_extension": ".py",
   "mimetype": "text/x-python",
   "name": "python",
   "nbconvert_exporter": "python",
   "pygments_lexer": "ipython3",
   "version": "3.7.9"
  }
 },
 "nbformat": 4,
 "nbformat_minor": 4
}
