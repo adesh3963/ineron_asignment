{
 "cells": [
  {
   "cell_type": "code",
   "execution_count": 100,
   "metadata": {},
   "outputs": [],
   "source": [
    "# 1. Write a Python program to reverse a string without using any built-in string reversal functions.\n",
    "# 2. Implement a function to check if a given string is a palindrome.\n",
    "# 3. Write a program to find the largest element in a given list.\n",
    "# 4. Implement a function to count the occurrence of each element in a list.\n",
    "# 5. Write a Python program to find the second largest number in a list.\n",
    "# 6. Implement a function to remove duplicate elements from a list.\n",
    "# 7. Write a program to calculate the factorial of a given number.\n",
    "# 8. Implement a function to check if a given number is prime.\n",
    "# 9. Write a Python program to sort a list of integers in ascending order.\n",
    "# 10. Implement a function to find the sum of all numbers in a list.\n",
    "# 11. Write a program to find the common elements between two lists.\n",
    "# 12. Implement a function to check if a given string is an anagram of another string.\n",
    "# 13. Write a Python program to generate all permutations of a given string.\n",
    "# 14. Implement a function to calculate the Fibonacci sequence up to a given number of terms.\n",
    "# 15. Write a program to find the median of a list of numbers.\n",
    "# 16. Implement a function to check if a given list is sorted in non-decreasing order.\n",
    "# 17. Write a Python program to find the intersection of two lists.\n",
    "# 18. Implement a function to find the maximum subarray sum in a given list.\n",
    "# 19. Write a program to remove all vowels from a given string.\n",
    "# 20. Implement a function to reverse the order of words in a given sentence.\n",
    "# 21. Write a Python program to check if two strings are anagrams of each other.\n",
    "# 22. Implement a function to find the first non-repeating character in a string.\n",
    "# 23. Write a program to find the prime factors of a given number.\n",
    "# 24. Implement a function to check if a given number is a power of two.\n",
    "# 25. Write a Python program to merge two sorted lists into a single sorted list.\n",
    "# 26. Implement a function to find the mode of a list of numbers.\n",
    "# 27. Write a program to find the greatest common divisor (GCD) of two numbers.\n",
    "# 28. Implement a function to calculate the square root of a given number.\n",
    "# 29. Write a Python program to check if a given string is a valid palindrome ignoring non-alphanumeric characters.\n",
    "# 30. Implement a function to find the minimum element in a rotated sorted list.\n",
    "# 31. Write a program to find the sum of all even numbers in a list.\n",
    "# 32. Implement a function to calculate the power of a number using recursion.\n",
    "# 33. Write a Python program to remove duplicates from a list while preserving the order.\n",
    "# 34. Implement a function to find the longest common prefix among a list of strings.\n",
    "# 35. Write a program to check if a given number is a perfect square.\n",
    "# 36. Implement a function to calculate the product of all elements in a list.\n",
    "# 37. Write a Python program to reverse the order of words in a sentence while preserving the word order.\n",
    "# 38. Implement a function to find the missing number in a given list of consecutive numbers.\n",
    "# 39. Write a program to find the sum of digits of a given number.\n",
    "# 40. Implement a function to check if a given string is a valid palindrome considering case sensitivity.\n",
    "# 41. Write a Python program to find the smallest missing positive integer in a list.\n",
    "# 42. Implement a function to find the longest palindrome substring in a given string.\n",
    "# 43. Write a program to find the number of occurrences of a given element in a list.\n",
    "# 44. Implement a function to check if a given number is a perfect number.\n",
    "# 45. Write a Python program to remove all duplicates from a string.\n",
    "# 46. Implement a function to find the first missing positive\n"
   ]
  },
  {
   "cell_type": "code",
   "execution_count": 2,
   "metadata": {},
   "outputs": [
    {
     "name": "stdout",
     "output_type": "stream",
     "text": [
      "cba\n"
     ]
    }
   ],
   "source": [
    "#1. Write a Python program to reverse a string without using any built-in string reversal functions.\n",
    "\n",
    "s = \"abc\"\n",
    "s = s[::-1]\n",
    "print(s)\n",
    "\n",
    "# we can do this by two pointer approach, but here we only concern about python concept"
   ]
  },
  {
   "cell_type": "markdown",
   "metadata": {},
   "source": [
    "#### Implement a function to check if a given string is a palindrome.\n",
    "\n"
   ]
  },
  {
   "cell_type": "code",
   "execution_count": 4,
   "metadata": {},
   "outputs": [
    {
     "name": "stdout",
     "output_type": "stream",
     "text": [
      "False\n",
      "True\n"
     ]
    }
   ],
   "source": [
    "def check_palindrome(s):\n",
    "    revers_s = s[::-1]\n",
    "    if s == revers_s:\n",
    "        return True\n",
    "    return False\n",
    "\n",
    "print(check_palindrome(\"abc\"))\n",
    "print(check_palindrome(\"aba\"))"
   ]
  },
  {
   "cell_type": "markdown",
   "metadata": {},
   "source": [
    "#### 3. Write a program to find the largest element in a given list."
   ]
  },
  {
   "cell_type": "code",
   "execution_count": 5,
   "metadata": {},
   "outputs": [
    {
     "data": {
      "text/plain": [
       "9"
      ]
     },
     "execution_count": 5,
     "metadata": {},
     "output_type": "execute_result"
    }
   ],
   "source": [
    "def largest(lis):\n",
    "    return max(lis)\n",
    "\n",
    "largest([2,4,5,6,9])"
   ]
  },
  {
   "cell_type": "markdown",
   "metadata": {},
   "source": [
    "#### 4. Implement a function to count the occurrence of each element in a list."
   ]
  },
  {
   "cell_type": "code",
   "execution_count": 8,
   "metadata": {},
   "outputs": [
    {
     "data": {
      "text/plain": [
       "Counter({1: 1, 2: 2, 3: 2})"
      ]
     },
     "execution_count": 8,
     "metadata": {},
     "output_type": "execute_result"
    }
   ],
   "source": [
    "from collections import Counter\n",
    "\n",
    "def count_element(lis):\n",
    "    counts = Counter(lis)\n",
    "    return counts\n",
    "    \n",
    "count_element([1,2,3,3,2])"
   ]
  },
  {
   "cell_type": "code",
   "execution_count": 9,
   "metadata": {},
   "outputs": [
    {
     "data": {
      "text/plain": [
       "{1: 1, 2: 2, 3: 2, 4: 1}"
      ]
     },
     "execution_count": 9,
     "metadata": {},
     "output_type": "execute_result"
    }
   ],
   "source": [
    "def count_element(lis):\n",
    "    dic = {}\n",
    "    for e in lis:\n",
    "        if e in dic:\n",
    "            dic[e] += 1\n",
    "        else:\n",
    "            dic[e] = 1\n",
    "    return dic\n",
    "\n",
    "count_element([1,2,3,4,3,2])"
   ]
  },
  {
   "cell_type": "markdown",
   "metadata": {},
   "source": [
    "#### 5. Write a Python program to find the second largest number in a list."
   ]
  },
  {
   "cell_type": "code",
   "execution_count": 11,
   "metadata": {},
   "outputs": [
    {
     "data": {
      "text/plain": [
       "5"
      ]
     },
     "execution_count": 11,
     "metadata": {},
     "output_type": "execute_result"
    }
   ],
   "source": [
    "## in python just do sort and return -2 index\n",
    "\n",
    "def second_lagest(lis):\n",
    "    return sorted(lis)[-2]\n",
    "\n",
    "second_lagest([1,4,3,2,5,4,6])\n",
    "    "
   ]
  },
  {
   "cell_type": "code",
   "execution_count": 13,
   "metadata": {},
   "outputs": [
    {
     "data": {
      "text/plain": [
       "5"
      ]
     },
     "execution_count": 13,
     "metadata": {},
     "output_type": "execute_result"
    }
   ],
   "source": [
    "# use logic\n",
    "\n",
    "def second_lagest(lis):\n",
    "    first_e = float(\"-inf\")\n",
    "    sec_e = float(\"-inf\")\n",
    "    for e in lis:\n",
    "        if e > first_e and e > sec_e:\n",
    "            sec_e = first_e\n",
    "            first_e = e\n",
    "        if e > sec_e and e < first_e:\n",
    "            sec_e = e\n",
    "    return sec_e\n",
    "\n",
    "second_lagest([1,4,3,2,5,4,6])"
   ]
  },
  {
   "cell_type": "markdown",
   "metadata": {},
   "source": [
    "#### 6. Implement a function to remove duplicate elements from a list."
   ]
  },
  {
   "cell_type": "code",
   "execution_count": 14,
   "metadata": {},
   "outputs": [
    {
     "data": {
      "text/plain": [
       "[1, 2, 3, 4]"
      ]
     },
     "execution_count": 14,
     "metadata": {},
     "output_type": "execute_result"
    }
   ],
   "source": [
    "## use set\n",
    "def remove_dublicate(lis):\n",
    "    return list(set(lis))\n",
    "\n",
    "remove_dublicate([1,2,4,3,2,3,4,1])"
   ]
  },
  {
   "cell_type": "code",
   "execution_count": 15,
   "metadata": {},
   "outputs": [
    {
     "data": {
      "text/plain": [
       "[1, 2, 3, 4]"
      ]
     },
     "execution_count": 15,
     "metadata": {},
     "output_type": "execute_result"
    }
   ],
   "source": [
    "## use logic\n",
    "def remove_duplicate(lis):\n",
    "    temp = []\n",
    "    for e in lis:\n",
    "        if e not in temp:\n",
    "            temp.append(e)\n",
    "    return temp\n",
    "\n",
    "remove_dublicate([1,2,3,4,3,2,3,4])"
   ]
  },
  {
   "cell_type": "markdown",
   "metadata": {},
   "source": [
    "#### 7. Write a program to calculate the factorial of a given number."
   ]
  },
  {
   "cell_type": "code",
   "execution_count": 25,
   "metadata": {},
   "outputs": [
    {
     "data": {
      "text/plain": [
       "120"
      ]
     },
     "execution_count": 25,
     "metadata": {},
     "output_type": "execute_result"
    }
   ],
   "source": [
    "def fact(n):\n",
    "    if n == 0:\n",
    "        return 1\n",
    "    return n * fact(n-1)\n",
    "\n",
    "fact(5)"
   ]
  },
  {
   "cell_type": "code",
   "execution_count": 26,
   "metadata": {},
   "outputs": [
    {
     "data": {
      "text/plain": [
       "120"
      ]
     },
     "execution_count": 26,
     "metadata": {},
     "output_type": "execute_result"
    }
   ],
   "source": [
    "## using loop\n",
    "def fact(n):\n",
    "    f = 1\n",
    "    for i in range(n,0,-1):\n",
    "        f = f * i\n",
    "    return f\n",
    "fact(5)"
   ]
  },
  {
   "cell_type": "markdown",
   "metadata": {},
   "source": [
    "#### 8. Implement a function to check if a given number is prime."
   ]
  },
  {
   "cell_type": "code",
   "execution_count": 27,
   "metadata": {},
   "outputs": [
    {
     "data": {
      "text/plain": [
       "True"
      ]
     },
     "execution_count": 27,
     "metadata": {},
     "output_type": "execute_result"
    }
   ],
   "source": [
    "# prime means not divisibe by any number except itself\n",
    "def prime(n):\n",
    "    if n == 1 or n == 2:\n",
    "        return True\n",
    "    else:\n",
    "        for i in range(2, n//2 + 1):\n",
    "            if n%i == 0:\n",
    "                return False\n",
    "            \n",
    "        return True\n",
    "    \n",
    "prime(5)"
   ]
  },
  {
   "cell_type": "code",
   "execution_count": 28,
   "metadata": {},
   "outputs": [
    {
     "data": {
      "text/plain": [
       "False"
      ]
     },
     "execution_count": 28,
     "metadata": {},
     "output_type": "execute_result"
    }
   ],
   "source": [
    "prime(10)"
   ]
  },
  {
   "cell_type": "code",
   "execution_count": 29,
   "metadata": {},
   "outputs": [
    {
     "data": {
      "text/plain": [
       "True"
      ]
     },
     "execution_count": 29,
     "metadata": {},
     "output_type": "execute_result"
    }
   ],
   "source": [
    "prime(11)"
   ]
  },
  {
   "cell_type": "code",
   "execution_count": 30,
   "metadata": {},
   "outputs": [
    {
     "data": {
      "text/plain": [
       "True"
      ]
     },
     "execution_count": 30,
     "metadata": {},
     "output_type": "execute_result"
    }
   ],
   "source": [
    "prime(23)"
   ]
  },
  {
   "cell_type": "markdown",
   "metadata": {},
   "source": [
    "#### 9. Write a Python program to sort a list of integers in ascending order."
   ]
  },
  {
   "cell_type": "code",
   "execution_count": 31,
   "metadata": {},
   "outputs": [
    {
     "data": {
      "text/plain": [
       "[3, 4, 4, 5, 6]"
      ]
     },
     "execution_count": 31,
     "metadata": {},
     "output_type": "execute_result"
    }
   ],
   "source": [
    "def sort_list(lis):\n",
    "    return sorted(lis)\n",
    "\n",
    "sort_list([4,3,5,4,6])"
   ]
  },
  {
   "cell_type": "raw",
   "metadata": {},
   "source": [
    "## use logic like\n",
    "1 bubblesort, selectionsort, insertionsort etc"
   ]
  },
  {
   "cell_type": "markdown",
   "metadata": {},
   "source": [
    "#### 10. Implement a function to find the sum of all numbers in a list."
   ]
  },
  {
   "cell_type": "code",
   "execution_count": 32,
   "metadata": {},
   "outputs": [
    {
     "data": {
      "text/plain": [
       "19"
      ]
     },
     "execution_count": 32,
     "metadata": {},
     "output_type": "execute_result"
    }
   ],
   "source": [
    "def sum_of_all(lis):\n",
    "    return sum(lis)\n",
    "sum_of_all([1,3,4,5,6])"
   ]
  },
  {
   "cell_type": "code",
   "execution_count": 33,
   "metadata": {},
   "outputs": [
    {
     "data": {
      "text/plain": [
       "15"
      ]
     },
     "execution_count": 33,
     "metadata": {},
     "output_type": "execute_result"
    }
   ],
   "source": [
    "## use logic\n",
    "def sumList(lis):\n",
    "    s = 0\n",
    "    for e in lis:\n",
    "        s = s + e\n",
    "    return s\n",
    "sumList([1,2,3,4,5])"
   ]
  },
  {
   "cell_type": "markdown",
   "metadata": {},
   "source": [
    "#### 11. Write a program to find the common elements between two lists."
   ]
  },
  {
   "cell_type": "code",
   "execution_count": 34,
   "metadata": {},
   "outputs": [
    {
     "data": {
      "text/plain": [
       "{3, 4, 5}"
      ]
     },
     "execution_count": 34,
     "metadata": {},
     "output_type": "execute_result"
    }
   ],
   "source": [
    "def common_ele(lis1,lis2):\n",
    "    s1 = set(lis1)\n",
    "    s2 = set(lis2)\n",
    "    inter = s1.intersection(s2)\n",
    "    return inter\n",
    "\n",
    "common_ele([1,2,3,4,5,4],[3,4,5,8,7,6])"
   ]
  },
  {
   "cell_type": "code",
   "execution_count": 35,
   "metadata": {},
   "outputs": [
    {
     "data": {
      "text/plain": [
       "[2, 3]"
      ]
     },
     "execution_count": 35,
     "metadata": {},
     "output_type": "execute_result"
    }
   ],
   "source": [
    "#another logic\n",
    "def common_ele(lis1,lis2):\n",
    "    temp = []\n",
    "    for e in lis1:\n",
    "        if e in lis2:\n",
    "            temp.append(e)\n",
    "    return temp\n",
    "\n",
    "common_ele([1,2,3,4,5],[2,3,9,8,7])"
   ]
  },
  {
   "cell_type": "markdown",
   "metadata": {},
   "source": [
    "#### 12. Implement a function to check if a given string is an anagram of another string."
   ]
  },
  {
   "cell_type": "code",
   "execution_count": 40,
   "metadata": {},
   "outputs": [
    {
     "data": {
      "text/plain": [
       "True"
      ]
     },
     "execution_count": 40,
     "metadata": {},
     "output_type": "execute_result"
    }
   ],
   "source": [
    "def isAnagram(s1,s2):\n",
    "    return True if sorted(s1.lower()) == sorted(s2.lower()) else False\n",
    "\n",
    "isAnagram(\"abcd\",\"dacb\")"
   ]
  },
  {
   "cell_type": "markdown",
   "metadata": {},
   "source": [
    "#### 13. Write a Python program to generate all permutations of a given string."
   ]
  },
  {
   "cell_type": "code",
   "execution_count": 42,
   "metadata": {},
   "outputs": [
    {
     "name": "stdout",
     "output_type": "stream",
     "text": [
      "abc\n",
      "acb\n",
      "bac\n",
      "bca\n",
      "cba\n",
      "cab\n"
     ]
    }
   ],
   "source": [
    "def permutations(s,index):\n",
    "    if index == len(s):\n",
    "        print(\"\".join(s))\n",
    "        return\n",
    "    else:\n",
    "        for i in range(index,len(s)):\n",
    "            #swap\n",
    "            s[index],s[i] = s[i],s[index]\n",
    "            permutations(s,index+1)\n",
    "            s[index],s[i] = s[i],s[index]\n",
    "def driver(s):\n",
    "    s = list(s)\n",
    "    permutations(s,0)\n",
    "    \n",
    "driver(\"abc\")"
   ]
  },
  {
   "cell_type": "markdown",
   "metadata": {},
   "source": [
    "#### 14. Implement a function to calculate the Fibonacci sequence up to a given number of terms."
   ]
  },
  {
   "cell_type": "code",
   "execution_count": 49,
   "metadata": {},
   "outputs": [
    {
     "data": {
      "text/plain": [
       "3"
      ]
     },
     "execution_count": 49,
     "metadata": {},
     "output_type": "execute_result"
    }
   ],
   "source": [
    "## use basic approach\n",
    "# 0, 1, 1 ,2, 3, 5, 8, 13\n",
    "\n",
    "def fibo(n):\n",
    "    if n == 1:\n",
    "        return 0\n",
    "    if n == 2:\n",
    "        return 1\n",
    "    first = 0\n",
    "    sec = 1\n",
    "    for i in range(n-2):\n",
    "        nxt=  first + sec\n",
    "        first = sec\n",
    "        sec = nxt\n",
    "        \n",
    "    return sec\n",
    "\n",
    "fibo(5)"
   ]
  },
  {
   "cell_type": "code",
   "execution_count": 50,
   "metadata": {},
   "outputs": [
    {
     "data": {
      "text/plain": [
       "1"
      ]
     },
     "execution_count": 50,
     "metadata": {},
     "output_type": "execute_result"
    }
   ],
   "source": [
    "### use recursion\n",
    "\n",
    "def fibo(n):\n",
    "    if n == 1 or n == 0:\n",
    "        return 0\n",
    "    if n == 2:\n",
    "        return 1\n",
    "    return fibo(n-1) + fibo(n-2)\n",
    "\n",
    "fibo(3)"
   ]
  },
  {
   "cell_type": "code",
   "execution_count": 52,
   "metadata": {},
   "outputs": [
    {
     "data": {
      "text/plain": [
       "13"
      ]
     },
     "execution_count": 52,
     "metadata": {},
     "output_type": "execute_result"
    }
   ],
   "source": [
    "fibo(8)"
   ]
  },
  {
   "cell_type": "code",
   "execution_count": 60,
   "metadata": {},
   "outputs": [
    {
     "data": {
      "text/plain": [
       "3"
      ]
     },
     "execution_count": 60,
     "metadata": {},
     "output_type": "execute_result"
    }
   ],
   "source": [
    "### use DP\n",
    "\n",
    "def fibo(n):\n",
    "    if n == 1:\n",
    "        return 0\n",
    "    if n == 2:\n",
    "        return 1\n",
    "    else:\n",
    "        temp = [0,1]\n",
    "        for i in range(n-2):\n",
    "            temp.append(temp[-1]+ temp[-2])\n",
    "        return temp[-1]\n",
    "    \n",
    "fibo(5)"
   ]
  },
  {
   "cell_type": "markdown",
   "metadata": {},
   "source": [
    "#### 15. Write a program to find the median of a list of numbers."
   ]
  },
  {
   "cell_type": "code",
   "execution_count": 57,
   "metadata": {},
   "outputs": [
    {
     "data": {
      "text/plain": [
       "3"
      ]
     },
     "execution_count": 57,
     "metadata": {},
     "output_type": "execute_result"
    }
   ],
   "source": [
    "def median(lis):\n",
    "    lis.sort()\n",
    "    if len(lis)%2 !=0:\n",
    "        return lis[len(lis)//2]\n",
    "    else:\n",
    "        return (lis[len(lis)//2] + lis[(len(lis)//2)-1])/2\n",
    "    \n",
    "median([1,2,3,4,5])"
   ]
  },
  {
   "cell_type": "code",
   "execution_count": 58,
   "metadata": {},
   "outputs": [
    {
     "data": {
      "text/plain": [
       "3.5"
      ]
     },
     "execution_count": 58,
     "metadata": {},
     "output_type": "execute_result"
    }
   ],
   "source": [
    "median([1,2,3,4,5,6])"
   ]
  },
  {
   "cell_type": "markdown",
   "metadata": {},
   "source": [
    "#### 16. Implement a function to check if a given list is sorted in non-decreasing order."
   ]
  },
  {
   "cell_type": "code",
   "execution_count": 62,
   "metadata": {},
   "outputs": [
    {
     "data": {
      "text/plain": [
       "True"
      ]
     },
     "execution_count": 62,
     "metadata": {},
     "output_type": "execute_result"
    }
   ],
   "source": [
    "def check_if_sorted(lis):\n",
    "    return lis == sorted(lis)\n",
    "\n",
    "check_if_sorted([1,2,4])"
   ]
  },
  {
   "cell_type": "code",
   "execution_count": 63,
   "metadata": {},
   "outputs": [
    {
     "data": {
      "text/plain": [
       "True"
      ]
     },
     "execution_count": 63,
     "metadata": {},
     "output_type": "execute_result"
    }
   ],
   "source": [
    "## by logic id sorted or not\n",
    "def check_if_sorted(lis):\n",
    "    for i in range(1,len(lis)):\n",
    "        if lis[i-1]>lis[i]:\n",
    "            break\n",
    "    else:\n",
    "        return True\n",
    "    for i in range(1,len(lis)):\n",
    "        if lis[i-1]< lis[i]:\n",
    "            break\n",
    "    else:\n",
    "        return True\n",
    "    return False\n",
    "\n",
    "check_if_sorted([1,2,3,4])"
   ]
  },
  {
   "cell_type": "code",
   "execution_count": 64,
   "metadata": {},
   "outputs": [
    {
     "data": {
      "text/plain": [
       "False"
      ]
     },
     "execution_count": 64,
     "metadata": {},
     "output_type": "execute_result"
    }
   ],
   "source": [
    "check_if_sorted([1,2,3,4,3])"
   ]
  },
  {
   "cell_type": "markdown",
   "metadata": {},
   "source": [
    "#### 17. Write a Python program to find the intersection of two lists."
   ]
  },
  {
   "cell_type": "code",
   "execution_count": 66,
   "metadata": {},
   "outputs": [
    {
     "data": {
      "text/plain": [
       "{2, 3}"
      ]
     },
     "execution_count": 66,
     "metadata": {},
     "output_type": "execute_result"
    }
   ],
   "source": [
    "def find_intersection(lis1,lis2):\n",
    "    s = set(lis1)\n",
    "    s2 = set(lis2)\n",
    "    return s.intersection(s2)\n",
    "\n",
    "find_intersection([1,2,3],[4,3,2])"
   ]
  },
  {
   "cell_type": "markdown",
   "metadata": {},
   "source": [
    "#### 18. Implement a function to find the maximum subarray sum in a given list."
   ]
  },
  {
   "cell_type": "code",
   "execution_count": 88,
   "metadata": {},
   "outputs": [
    {
     "data": {
      "text/plain": [
       "100"
      ]
     },
     "execution_count": 88,
     "metadata": {},
     "output_type": "execute_result"
    }
   ],
   "source": [
    "def maxium_subarray_sum(lis):\n",
    "    mx = float(\"-inf\")\n",
    "    for i in range(len(lis)):\n",
    "        s = 0\n",
    "        for j in range(i,len(lis)):\n",
    "            s = s + lis[j]\n",
    "            mx = max(mx,s)\n",
    "    return mx\n",
    "\n",
    "\n",
    "maxium_subarray_sum([23,54,6,-1,-1000,100])"
   ]
  },
  {
   "cell_type": "markdown",
   "metadata": {},
   "source": [
    "#### 19. Write a program to remove all vowels from a given string."
   ]
  },
  {
   "cell_type": "code",
   "execution_count": 93,
   "metadata": {},
   "outputs": [
    {
     "data": {
      "text/plain": [
       "'my nm s dsh kmr'"
      ]
     },
     "execution_count": 93,
     "metadata": {},
     "output_type": "execute_result"
    }
   ],
   "source": [
    "def remove_vovels(s):\n",
    "    v =\"aeiou\"\n",
    "    a = \"\"\n",
    "    for e in s:\n",
    "        if e not in v:\n",
    "            a = a + e\n",
    "    return a\n",
    "\n",
    "remove_vovels(\"my name is adesh kumar\")"
   ]
  },
  {
   "cell_type": "markdown",
   "metadata": {},
   "source": [
    "#### 20. Implement a function to reverse the order of words in a given sentence."
   ]
  },
  {
   "cell_type": "code",
   "execution_count": 94,
   "metadata": {},
   "outputs": [
    {
     "data": {
      "text/plain": [
       "'kumar adesh is name my'"
      ]
     },
     "execution_count": 94,
     "metadata": {},
     "output_type": "execute_result"
    }
   ],
   "source": [
    "def revers_order_of_words(s):\n",
    "    s = s.split(\" \")\n",
    "    s = s[::-1]\n",
    "    return \" \".join(s)\n",
    "\n",
    "revers_order_of_words(\"my name is adesh kumar\")"
   ]
  },
  {
   "cell_type": "markdown",
   "metadata": {},
   "source": [
    "#### 21. Write a Python program to check if two strings are anagrams of each other."
   ]
  },
  {
   "cell_type": "code",
   "execution_count": 97,
   "metadata": {},
   "outputs": [
    {
     "data": {
      "text/plain": [
       "True"
      ]
     },
     "execution_count": 97,
     "metadata": {},
     "output_type": "execute_result"
    }
   ],
   "source": [
    "def checkanagram(s1,s2):\n",
    "    return sorted(s1) == sorted(s2)\n",
    "\n",
    "checkanagram(\"abc\",\"bac\")"
   ]
  },
  {
   "cell_type": "markdown",
   "metadata": {},
   "source": [
    "#### 22. Implement a function to find the first non-repeating character in a string."
   ]
  },
  {
   "cell_type": "code",
   "execution_count": 101,
   "metadata": {},
   "outputs": [
    {
     "data": {
      "text/plain": [
       "'d'"
      ]
     },
     "execution_count": 101,
     "metadata": {},
     "output_type": "execute_result"
    }
   ],
   "source": [
    "# brute force\n",
    "\n",
    "def first_non_repeating(s):\n",
    "    dic = {}\n",
    "    for i in range(len(s)):\n",
    "        if s[i] in dic:\n",
    "            dic[s[i]] += 1\n",
    "        else:\n",
    "            dic[s[i]] = 1\n",
    "    for e in s:\n",
    "        c = dic[e]\n",
    "        if  c == 1:\n",
    "            return e\n",
    "        \n",
    "first_non_repeating(\"abcabcdab\")"
   ]
  },
  {
   "cell_type": "markdown",
   "metadata": {},
   "source": [
    "23. Write a program to find the prime factors of a given number.\n",
    "24. Implement a function to check if a given number is a power of two.\n",
    "25. Write a Python program to merge two sorted lists into a single sorted list.\n",
    "26. Implement a function to find the mode of a list of numbers.\n",
    "27. Write a program to find the greatest common divisor (GCD) of two numbers.\n",
    "28. Implement a function to calculate the square root of a given number.\n",
    "29. Write a Python program to check if a given string is a valid palindrome ignoring non-alphanumeric characters.\n",
    "30. Implement a function to find the minimum element in a rotated sorted list."
   ]
  },
  {
   "cell_type": "markdown",
   "metadata": {},
   "source": [
    "#### 23 Write a program to find the prime factors of a given number."
   ]
  },
  {
   "cell_type": "code",
   "execution_count": 106,
   "metadata": {},
   "outputs": [
    {
     "name": "stdout",
     "output_type": "stream",
     "text": [
      "3\n",
      "31.0\n"
     ]
    }
   ],
   "source": [
    "def primefactors(n):\n",
    "    while n%2 == 0:\n",
    "        print(2)\n",
    "        n = n/2\n",
    "    ## now n is odd\n",
    "    i = 3\n",
    "    while i*i <= n:\n",
    "        while n%i == 0:\n",
    "            print(i)\n",
    "            n = n/i\n",
    "        i += 2\n",
    "    if n > 2:\n",
    "        print(n)\n",
    "        \n",
    "primefactors(93)"
   ]
  },
  {
   "cell_type": "markdown",
   "metadata": {},
   "source": [
    "#### 24 Implement a function to check if a given number is a power of two."
   ]
  },
  {
   "cell_type": "code",
   "execution_count": 111,
   "metadata": {},
   "outputs": [],
   "source": [
    "def powerOftwo(n):\n",
    "    if n == 1:\n",
    "        return True\n",
    "    if n % 2 != 0:\n",
    "        return False\n",
    "    return powerOftwo(n/2)\n",
    "        "
   ]
  },
  {
   "cell_type": "code",
   "execution_count": 112,
   "metadata": {},
   "outputs": [
    {
     "data": {
      "text/plain": [
       "True"
      ]
     },
     "execution_count": 112,
     "metadata": {},
     "output_type": "execute_result"
    }
   ],
   "source": [
    "powerOftwo(8)"
   ]
  },
  {
   "cell_type": "code",
   "execution_count": 113,
   "metadata": {},
   "outputs": [
    {
     "data": {
      "text/plain": [
       "False"
      ]
     },
     "execution_count": 113,
     "metadata": {},
     "output_type": "execute_result"
    }
   ],
   "source": [
    "powerOftwo(6)"
   ]
  },
  {
   "cell_type": "code",
   "execution_count": 114,
   "metadata": {},
   "outputs": [
    {
     "data": {
      "text/plain": [
       "True"
      ]
     },
     "execution_count": 114,
     "metadata": {},
     "output_type": "execute_result"
    }
   ],
   "source": [
    "powerOftwo(64)"
   ]
  },
  {
   "cell_type": "code",
   "execution_count": 115,
   "metadata": {},
   "outputs": [
    {
     "data": {
      "text/plain": [
       "False"
      ]
     },
     "execution_count": 115,
     "metadata": {},
     "output_type": "execute_result"
    }
   ],
   "source": [
    "powerOftwo(12)"
   ]
  },
  {
   "cell_type": "markdown",
   "metadata": {},
   "source": [
    "#### 25 Write a Python program to merge two sorted lists into a single sorted list."
   ]
  },
  {
   "cell_type": "code",
   "execution_count": 117,
   "metadata": {},
   "outputs": [
    {
     "data": {
      "text/plain": [
       "[1, 2, 3, 4, 5, 6]"
      ]
     },
     "execution_count": 117,
     "metadata": {},
     "output_type": "execute_result"
    }
   ],
   "source": [
    "def merge_to_sorted_list(lis1,lis2):\n",
    "    temp = []\n",
    "    i =0\n",
    "    j = 0\n",
    "    while i < len(lis1) and j < len(lis2):\n",
    "        if lis1[i] < lis2[j]:\n",
    "            temp.append(lis1[i])\n",
    "            i += 1\n",
    "        else:\n",
    "            temp.append(lis2[j])\n",
    "            j +=1\n",
    "    while i < len(lis1):\n",
    "        temp.append(lis1[i])\n",
    "        i +=1\n",
    "    while j < len(lis2):\n",
    "        temp.append(lis2[j])\n",
    "        j += 1\n",
    "        \n",
    "    return temp\n",
    "\n",
    "merge_to_sorted_list([1,2,3,4],[5,6])"
   ]
  },
  {
   "cell_type": "code",
   "execution_count": 118,
   "metadata": {},
   "outputs": [
    {
     "data": {
      "text/plain": [
       "[1, 1, 2, 2, 3, 4]"
      ]
     },
     "execution_count": 118,
     "metadata": {},
     "output_type": "execute_result"
    }
   ],
   "source": [
    "merge_to_sorted_list([1,2],[1,2,3,4])"
   ]
  },
  {
   "cell_type": "markdown",
   "metadata": {},
   "source": [
    "#### 26 Implement a function to find the mode of a list of numbers."
   ]
  },
  {
   "cell_type": "code",
   "execution_count": 136,
   "metadata": {},
   "outputs": [
    {
     "data": {
      "text/plain": [
       "6"
      ]
     },
     "execution_count": 136,
     "metadata": {},
     "output_type": "execute_result"
    }
   ],
   "source": [
    "def find_mode(lis):\n",
    "    lis.sort()\n",
    "    i = 0\n",
    "    mx = -1\n",
    "    count = 1\n",
    "    mode = lis[0]\n",
    "    while i < len(lis)-1:\n",
    "        if count > mx:\n",
    "            mode = lis[i]\n",
    "            mx = max(count,mx)\n",
    "        if lis[i] == lis[i+1]:\n",
    "            count += 1\n",
    "        else:\n",
    "            count = 1\n",
    "        i += 1\n",
    "    return mode\n",
    "            \n",
    "find_mode([5,6,7,9,6])"
   ]
  },
  {
   "cell_type": "markdown",
   "metadata": {},
   "source": [
    "#### 27 Write a program to find the greatest common divisor (GCD) of two numbers."
   ]
  },
  {
   "cell_type": "code",
   "execution_count": 1,
   "metadata": {},
   "outputs": [
    {
     "data": {
      "text/plain": [
       "6"
      ]
     },
     "execution_count": 1,
     "metadata": {},
     "output_type": "execute_result"
    }
   ],
   "source": [
    "## doing it in term of python python\n",
    "import math\n",
    "def get_greatest_divisor(x,y):\n",
    "    return math.gcd(x,y)\n",
    "\n",
    "get_greatest_divisor(12,18)\n"
   ]
  },
  {
   "cell_type": "code",
   "execution_count": 2,
   "metadata": {},
   "outputs": [
    {
     "data": {
      "text/plain": [
       "6"
      ]
     },
     "execution_count": 2,
     "metadata": {},
     "output_type": "execute_result"
    }
   ],
   "source": [
    "def get_greatest_divisor(x,y):\n",
    "    divisor = min(x,y)\n",
    "    while divisor >0:\n",
    "        if x%divisor == 0 and y%divisor == 0:\n",
    "            return divisor\n",
    "        divisor -= 1\n",
    "        \n",
    "    else:\n",
    "        return -1\n",
    "    \n",
    "get_greatest_divisor(12,18)\n",
    "        "
   ]
  },
  {
   "cell_type": "markdown",
   "metadata": {},
   "source": [
    "#### 28 Implement a function to calculate the square root of a given number."
   ]
  },
  {
   "cell_type": "code",
   "execution_count": 3,
   "metadata": {},
   "outputs": [
    {
     "data": {
      "text/plain": [
       "2.0"
      ]
     },
     "execution_count": 3,
     "metadata": {},
     "output_type": "execute_result"
    }
   ],
   "source": [
    "import math\n",
    "def sqroot(x):\n",
    "    return math.sqrt(x)\n",
    "\n",
    "sqroot(4)"
   ]
  },
  {
   "cell_type": "code",
   "execution_count": 19,
   "metadata": {},
   "outputs": [
    {
     "data": {
      "text/plain": [
       "5.0000011920928955"
      ]
     },
     "execution_count": 19,
     "metadata": {},
     "output_type": "execute_result"
    }
   ],
   "source": [
    "### use binary search\n",
    "\n",
    "def sqroot(x):\n",
    "    low = 0\n",
    "    high = x\n",
    "    while high - low >= 0.00001:\n",
    "        mid = (high+low)/2\n",
    "        if mid * mid == x:\n",
    "            return mid\n",
    "        if mid*mid > x:\n",
    "            high = mid\n",
    "        else:\n",
    "            low = mid\n",
    "    return mid\n",
    "\n",
    "sqroot(25)"
   ]
  },
  {
   "cell_type": "markdown",
   "metadata": {},
   "source": [
    "#### 29 Write a Python program to check if a given string is a valid palindrome ignoring non-alphanumeric characters."
   ]
  },
  {
   "cell_type": "code",
   "execution_count": 22,
   "metadata": {},
   "outputs": [
    {
     "data": {
      "text/plain": [
       "True"
      ]
     },
     "execution_count": 22,
     "metadata": {},
     "output_type": "execute_result"
    }
   ],
   "source": [
    "import re\n",
    "def checkPalidrom(s):\n",
    "    s = re.sub(\"[^a-z]\",\"\",s)\n",
    "    return s == s[::-1]\n",
    "checkPalidrom(\"aaa#@aaa\")\n",
    "    "
   ]
  },
  {
   "cell_type": "markdown",
   "metadata": {},
   "source": [
    "#### 30 Implement a function to find the minimum element in a rotated sorted list"
   ]
  },
  {
   "cell_type": "code",
   "execution_count": 26,
   "metadata": {},
   "outputs": [
    {
     "data": {
      "text/plain": [
       "1"
      ]
     },
     "execution_count": 26,
     "metadata": {},
     "output_type": "execute_result"
    }
   ],
   "source": [
    "def min_in_rotated_sorted_lis(lis):\n",
    "    for i in range(1,len(lis)):\n",
    "        if lis[i]< lis[i-1]:\n",
    "            return lis[i]\n",
    "    else:\n",
    "        return lis[0]\n",
    "        \n",
    "min_in_rotated_sorted_lis([4,5,1,2,3])\n",
    "        "
   ]
  },
  {
   "cell_type": "code",
   "execution_count": 27,
   "metadata": {},
   "outputs": [],
   "source": [
    "# 31. Write a program to find the sum of all even numbers in a list.\n",
    "# 32. Implement a function to calculate the power of a number using recursion.\n",
    "# 33. Write a Python program to remove duplicates from a list while preserving the order.\n",
    "# # 34. Implement a function to find the longest common prefix among a list of strins.\n",
    "# 35. Write a program to check if a given number is a perfect square.\n",
    "# 36. Implement a function to calculate the product of all elements in a list.\n",
    "# 37. Write a Python program to reverse the order of words in a sentence while preserving the word order.\n",
    "# 38. Implement a function to find the missing number in a given list of consecutive numbers.\n",
    "# 39. Write a program to find the sum of digits of a given number.\n",
    "# 40. Implement a function to check if a given string is a valid palindrome considering case sensitivity."
   ]
  },
  {
   "cell_type": "markdown",
   "metadata": {},
   "source": [
    "#### 31. Write a program to find the sum of all even numbers in a list."
   ]
  },
  {
   "cell_type": "code",
   "execution_count": 28,
   "metadata": {},
   "outputs": [
    {
     "data": {
      "text/plain": [
       "12"
      ]
     },
     "execution_count": 28,
     "metadata": {},
     "output_type": "execute_result"
    }
   ],
   "source": [
    "def sum_0f_even(lis):\n",
    "    return sum([i for i in lis if i % 2 == 0])\n",
    "\n",
    "sum_0f_even([1,2,3,4,5,6])"
   ]
  },
  {
   "cell_type": "markdown",
   "metadata": {},
   "source": [
    "#### # 32. Implement a function to calculate the power of a number using recursion."
   ]
  },
  {
   "cell_type": "code",
   "execution_count": 29,
   "metadata": {},
   "outputs": [
    {
     "data": {
      "text/plain": [
       "25"
      ]
     },
     "execution_count": 29,
     "metadata": {},
     "output_type": "execute_result"
    }
   ],
   "source": [
    "def power(n,p):\n",
    "    if p == 0:\n",
    "        return 1\n",
    "    else:\n",
    "        return n * power(n, p - 1)\n",
    "    \n",
    "power(5,2)"
   ]
  },
  {
   "cell_type": "markdown",
   "metadata": {},
   "source": [
    "#### 33. Write a Python program to remove duplicates from a list while preserving the order."
   ]
  },
  {
   "cell_type": "code",
   "execution_count": 31,
   "metadata": {},
   "outputs": [
    {
     "data": {
      "text/plain": [
       "[2, 3]"
      ]
     },
     "execution_count": 31,
     "metadata": {},
     "output_type": "execute_result"
    }
   ],
   "source": [
    "def removeDuplicate(lis):\n",
    "    temp = set()\n",
    "    for e in lis:\n",
    "        temp.add(e)\n",
    "    return list(temp)\n",
    "\n",
    "removeDuplicate([2,3,3,2])"
   ]
  },
  {
   "cell_type": "markdown",
   "metadata": {},
   "source": [
    "#### 34. Implement a function to find the longest common prefix among a list of strins."
   ]
  },
  {
   "cell_type": "code",
   "execution_count": 45,
   "metadata": {},
   "outputs": [
    {
     "data": {
      "text/plain": [
       "'fl'"
      ]
     },
     "execution_count": 45,
     "metadata": {},
     "output_type": "execute_result"
    }
   ],
   "source": [
    "lis = [\"flow\",\"fl\",\"flower\",\"flar\",\"fluw\"]\n",
    "def commonprefix(lis):\n",
    "    first = lis[0]\n",
    "    for i in range(len(first)):\n",
    "        e = first[i]\n",
    "        for st in lis:\n",
    "            if len(st)> i:\n",
    "                if e != st[i]:\n",
    "                    return first[:i]\n",
    "            else:\n",
    "                return st\n",
    "        \n",
    "commonprefix(lis)"
   ]
  },
  {
   "cell_type": "markdown",
   "metadata": {},
   "source": [
    "#### # 35. Write a program to check if a given number is a perfect square."
   ]
  },
  {
   "cell_type": "code",
   "execution_count": 55,
   "metadata": {},
   "outputs": [],
   "source": [
    "def isPerfectSquare(n) :\n",
    " \n",
    "    i = 1\n",
    "    while(i * i<= n):\n",
    "         \n",
    "        # If (i * i = n)\n",
    "        if ((n % i == 0) and (n / i == i)):\n",
    "            return True\n",
    "             \n",
    "        i = i + 1\n",
    "    return False"
   ]
  },
  {
   "cell_type": "code",
   "execution_count": 56,
   "metadata": {},
   "outputs": [
    {
     "data": {
      "text/plain": [
       "True"
      ]
     },
     "execution_count": 56,
     "metadata": {},
     "output_type": "execute_result"
    }
   ],
   "source": [
    "isPerfectSquare(25)"
   ]
  },
  {
   "cell_type": "markdown",
   "metadata": {},
   "source": [
    "#### 36. Implement a function to calculate the product of all elements in a list."
   ]
  },
  {
   "cell_type": "code",
   "execution_count": 57,
   "metadata": {},
   "outputs": [
    {
     "data": {
      "text/plain": [
       "10"
      ]
     },
     "execution_count": 57,
     "metadata": {},
     "output_type": "execute_result"
    }
   ],
   "source": [
    "def product(lis):\n",
    "    p = 1\n",
    "    for e in lis:\n",
    "        p = p * e\n",
    "    return p\n",
    "\n",
    "product([1,2,5])"
   ]
  },
  {
   "cell_type": "markdown",
   "metadata": {},
   "source": [
    "#### 37. Write a Python program to reverse the order of words in a sentence while preserving the word order."
   ]
  },
  {
   "cell_type": "code",
   "execution_count": 59,
   "metadata": {},
   "outputs": [
    {
     "data": {
      "text/plain": [
       "'ym eman si hseda'"
      ]
     },
     "execution_count": 59,
     "metadata": {},
     "output_type": "execute_result"
    }
   ],
   "source": [
    "def reversewrdinsent(s):\n",
    "    s = s.split()\n",
    "    s = [e[::-1] for e in s]\n",
    "    return \" \".join(s)\n",
    "reversewrdinsent(\"my name is adesh\")"
   ]
  },
  {
   "cell_type": "markdown",
   "metadata": {},
   "source": [
    "#### # 38. Implement a function to find the missing number in a given list of consecutive numbers."
   ]
  },
  {
   "cell_type": "code",
   "execution_count": 61,
   "metadata": {},
   "outputs": [
    {
     "data": {
      "text/plain": [
       "3"
      ]
     },
     "execution_count": 61,
     "metadata": {},
     "output_type": "execute_result"
    }
   ],
   "source": [
    "def missing(lis):\n",
    "    for i in range(1,len(lis)):\n",
    "        if i not in lis:\n",
    "            return i\n",
    "        \n",
    "missing([1,2,4,5])"
   ]
  },
  {
   "cell_type": "markdown",
   "metadata": {},
   "source": [
    "#### # 39. Write a program to find the sum of digits of a given number."
   ]
  },
  {
   "cell_type": "code",
   "execution_count": 62,
   "metadata": {},
   "outputs": [
    {
     "data": {
      "text/plain": [
       "6"
      ]
     },
     "execution_count": 62,
     "metadata": {},
     "output_type": "execute_result"
    }
   ],
   "source": [
    "def sum_of_digits(n):\n",
    "    n = str(n)\n",
    "    s = 0\n",
    "    for e in n:\n",
    "        s = s + int(e)\n",
    "    return s\n",
    "\n",
    "sum_of_digits(123)"
   ]
  },
  {
   "cell_type": "code",
   "execution_count": 64,
   "metadata": {},
   "outputs": [
    {
     "data": {
      "text/plain": [
       "10"
      ]
     },
     "execution_count": 64,
     "metadata": {},
     "output_type": "execute_result"
    }
   ],
   "source": [
    "def sum_of_digits(n):\n",
    "    s = 0\n",
    "    while n >0:\n",
    "        unit = n%10\n",
    "        s = s + unit\n",
    "        n = n//10\n",
    "    return s\n",
    "\n",
    "sum_of_digits(1234)"
   ]
  },
  {
   "cell_type": "markdown",
   "metadata": {},
   "source": [
    "#### 40. Implement a function to check if a given string is a valid palindrome considering case sensitivity."
   ]
  },
  {
   "cell_type": "code",
   "execution_count": 65,
   "metadata": {},
   "outputs": [
    {
     "data": {
      "text/plain": [
       "True"
      ]
     },
     "execution_count": 65,
     "metadata": {},
     "output_type": "execute_result"
    }
   ],
   "source": [
    "def pelindrom(s):\n",
    "    s = s.lower()\n",
    "    return s == s[::-1]\n",
    "\n",
    "pelindrom(\"Aba\")"
   ]
  },
  {
   "cell_type": "markdown",
   "metadata": {},
   "source": [
    "<!-- 41. Write a Python program to find the smallest missing positive integer in a list.\n",
    "42. Implement a function to find the longest palindrome substring in a given string.\n",
    "43. Write a program to find the number of occurrences of a given element in a list.\n",
    "44. Implement a function to check if a given number is a perfect number.\n",
    "45. Write a Python program to remove all duplicates from a string.\n",
    "46. Implement a function to find the first missing positive\n",
    " -->"
   ]
  },
  {
   "cell_type": "code",
   "execution_count": 66,
   "metadata": {},
   "outputs": [],
   "source": [
    "# 41. Write a Python program to find the smallest missing positive integer in a list.\n",
    "# 42. Implement a function to find the longest palindrome substring in a given string.\n",
    "# 43. Write a program to find the number of occurrences of a given element in a list.\n",
    "# 44. Implement a function to check if a given number is a perfect number.\n",
    "# 45. Write a Python program to remove all duplicates from a string.\n",
    "# 46. Implement a function to find the first missing positive\n"
   ]
  },
  {
   "cell_type": "markdown",
   "metadata": {},
   "source": [
    "#### 41. Write a Python program to find the smallest missing positive integer in a list. "
   ]
  },
  {
   "cell_type": "code",
   "execution_count": 76,
   "metadata": {},
   "outputs": [
    {
     "data": {
      "text/plain": [
       "1"
      ]
     },
     "execution_count": 76,
     "metadata": {},
     "output_type": "execute_result"
    }
   ],
   "source": [
    "def smallest_missing_positive(lis):\n",
    "    ### use set to make searching fast\n",
    "    tamp = set(lis)\n",
    "    for i in range(1,len(lis)):\n",
    "        if i not in tamp:\n",
    "            return i\n",
    "    else:\n",
    "        return \"not found\"\n",
    "        \n",
    "smallest_missing_positive([2,3,-8])\n",
    "\n"
   ]
  },
  {
   "cell_type": "markdown",
   "metadata": {},
   "source": [
    "#### 42. Implement a function to find the longest palindrome substring in a given string."
   ]
  },
  {
   "cell_type": "code",
   "execution_count": 84,
   "metadata": {},
   "outputs": [
    {
     "name": "stdout",
     "output_type": "stream",
     "text": [
      "[(1, 'a'), (1, 'b'), (1, 'a'), (1, 'b'), (1, 'd'), (1, 'm'), (2, 'ab'), (2, 'ba'), (2, 'ab'), (2, 'bd'), (2, 'dm'), (3, 'aba'), (3, 'bab'), (3, 'abd'), (3, 'bdm'), (4, 'abab'), (4, 'babd'), (4, 'abdm'), (5, 'ababd'), (5, 'babdm'), (6, 'ababdm')]\n",
      "ababdm\n",
      "babdm\n",
      "ababd\n",
      "abdm\n",
      "babd\n",
      "abab\n",
      "bdm\n",
      "abd\n",
      "bab\n"
     ]
    },
    {
     "data": {
      "text/plain": [
       "'bab'"
      ]
     },
     "execution_count": 84,
     "metadata": {},
     "output_type": "execute_result"
    }
   ],
   "source": [
    "### basic  Naive #approach \n",
    "# find all possible substring\n",
    "# sort it by lenght\n",
    "# check for pelindrome \n",
    "\n",
    "def all_possible_sub(s):\n",
    "    ans = []\n",
    "    for i in range(len(s)):\n",
    "        sub = \"\"\n",
    "        for j in range(i,len(s)):\n",
    "            sub = sub + s[j]\n",
    "            ans.append(sub)\n",
    "    return ans\n",
    "\n",
    "def longest_pelin(s):\n",
    "    lis = all_possible_sub(s)\n",
    "    lis = [(len(i),i) for i in lis]\n",
    "    lis = sorted(lis, key = lambda x : x[0])\n",
    "    print(lis)\n",
    "    for i in range(len(lis)-1,-1,-1):\n",
    "        ## check pelindrom\n",
    "        print(lis[i][1])\n",
    "        if lis[i][1] == lis[i][1][::-1]:\n",
    "            return lis[i][1]\n",
    "        \n",
    "longest_pelin(\"ababdm\")"
   ]
  },
  {
   "cell_type": "markdown",
   "metadata": {},
   "source": [
    "#### 43. Write a program to find the number of occurrences of a given element in a list."
   ]
  },
  {
   "cell_type": "code",
   "execution_count": 85,
   "metadata": {},
   "outputs": [
    {
     "data": {
      "text/plain": [
       "{1: 2, 2: 2, 3: 2, 5: 1}"
      ]
     },
     "execution_count": 85,
     "metadata": {},
     "output_type": "execute_result"
    }
   ],
   "source": [
    "def count(lis):\n",
    "    dic = {}\n",
    "    for e in lis:\n",
    "        if e in dic:\n",
    "            dic[e] += 1\n",
    "        else:\n",
    "            dic[e]= 1\n",
    "            \n",
    "    return dic\n",
    "\n",
    "count([1,2,3,3,2,1,5])"
   ]
  },
  {
   "cell_type": "markdown",
   "metadata": {},
   "source": [
    "#### # 44. Implement a function to check if a given number is a perfect number."
   ]
  },
  {
   "cell_type": "code",
   "execution_count": 91,
   "metadata": {},
   "outputs": [
    {
     "name": "stdout",
     "output_type": "stream",
     "text": [
      "[1, 2, 4, 7, 14]\n"
     ]
    },
    {
     "data": {
      "text/plain": [
       "True"
      ]
     },
     "execution_count": 91,
     "metadata": {},
     "output_type": "execute_result"
    }
   ],
   "source": [
    "### basic approach\n",
    "# find all divisor\n",
    "# check the sum is equal to number or not\n",
    "\n",
    "def perfact_num(n):\n",
    "    lis = []\n",
    "    for i in range(1,(n//2)+1):\n",
    "        if n%i == 0 :\n",
    "            lis.append(i)\n",
    "    print(lis)\n",
    "    return sum(lis) == n\n",
    "\n",
    "perfact_num(28)"
   ]
  },
  {
   "cell_type": "markdown",
   "metadata": {},
   "source": [
    "#### # 45. Write a Python program to remove all duplicates from a string."
   ]
  },
  {
   "cell_type": "code",
   "execution_count": 92,
   "metadata": {},
   "outputs": [
    {
     "data": {
      "text/plain": [
       "'adesh'"
      ]
     },
     "execution_count": 92,
     "metadata": {},
     "output_type": "execute_result"
    }
   ],
   "source": [
    "def remove_duplicate(s):\n",
    "    ans = \"\"\n",
    "    for e in s:\n",
    "        if e not in ans:\n",
    "            ans = ans + e\n",
    "    return ans\n",
    "\n",
    "remove_duplicate(\"aadesdh\")"
   ]
  },
  {
   "cell_type": "markdown",
   "metadata": {},
   "source": [
    "#### 46. Implement a function to find the first missing positive\n"
   ]
  },
  {
   "cell_type": "code",
   "execution_count": 99,
   "metadata": {},
   "outputs": [
    {
     "data": {
      "text/plain": [
       "1"
      ]
     },
     "execution_count": 99,
     "metadata": {},
     "output_type": "execute_result"
    }
   ],
   "source": [
    "def smallest_missing_positive(lis):\n",
    "    ### use set to make searching fast\n",
    "    tamp = set(lis)\n",
    "    for i in range(1,len(lis)):\n",
    "        if i not in tamp:\n",
    "            return i\n",
    "    else:\n",
    "        return \"not found\"\n",
    "        \n",
    "smallest_missing_positive([2,3,-8])\n"
   ]
  },
  {
   "cell_type": "code",
   "execution_count": 98,
   "metadata": {},
   "outputs": [
    {
     "data": {
      "text/plain": [
       "'asdf'"
      ]
     },
     "execution_count": 98,
     "metadata": {},
     "output_type": "execute_result"
    }
   ],
   "source": []
  },
  {
   "cell_type": "code",
   "execution_count": null,
   "metadata": {},
   "outputs": [],
   "source": []
  }
 ],
 "metadata": {
  "kernelspec": {
   "display_name": "Python 3",
   "language": "python",
   "name": "python3"
  },
  "language_info": {
   "codemirror_mode": {
    "name": "ipython",
    "version": 3
   },
   "file_extension": ".py",
   "mimetype": "text/x-python",
   "name": "python",
   "nbconvert_exporter": "python",
   "pygments_lexer": "ipython3",
   "version": "3.7.9"
  }
 },
 "nbformat": 4,
 "nbformat_minor": 4
}
