{
 "cells": [
  {
   "cell_type": "markdown",
   "metadata": {},
   "source": [
    "### question 1\n",
    "<aside>\n",
    "💡 1. **Merge k Sorted Lists**\n",
    "\n",
    "You are given an array of `k` linked-lists `lists`, each linked-list is sorted in ascending order.\n",
    "\n",
    "</aside>"
   ]
  },
  {
   "cell_type": "code",
   "execution_count": 1,
   "metadata": {},
   "outputs": [
    {
     "data": {
      "text/plain": [
       "'i am not comfortable with linked list yet\\ni would do follow up question for now\\nwill do this latter'"
      ]
     },
     "execution_count": 1,
     "metadata": {},
     "output_type": "execute_result"
    }
   ],
   "source": [
    "\"\"\"i am not comfortable with linked list yet\n",
    "i would do follow up question for now\n",
    "will do this latter\"\"\""
   ]
  },
  {
   "cell_type": "markdown",
   "metadata": {},
   "source": [
    "### Question 2\n",
    " Count of Smaller Numbers After Self"
   ]
  },
  {
   "cell_type": "markdown",
   "metadata": {},
   "source": [
    "Input: nums = [5,2,6,1]\n",
    "Output: [2,1,1,0]\n",
    "Explanation:\n",
    "To the right of 5 there are2 smaller elements (2 and 1).\n",
    "To the right of 2 there is only1 smaller element (1).\n",
    "To the right of 6 there is1 smaller element (1).\n",
    "To the right of 1 there is0 smaller element."
   ]
  },
  {
   "cell_type": "code",
   "execution_count": 2,
   "metadata": {},
   "outputs": [
    {
     "data": {
      "text/plain": [
       "[2, 1, 1, 0]"
      ]
     },
     "execution_count": 2,
     "metadata": {},
     "output_type": "execute_result"
    }
   ],
   "source": [
    "# brute force\n",
    "def smaller_number_in_right(lis):\n",
    "    temp = [0] * len(lis)\n",
    "    for i in range(len(lis)):\n",
    "        for j in range(i+1, len(lis)):\n",
    "            if lis[j]< lis[i]:\n",
    "                temp[i] = temp[i]+ 1\n",
    "                \n",
    "    return temp\n",
    "            \n",
    "    \n",
    "smaller_number_in_right([5,2,6,1])"
   ]
  },
  {
   "cell_type": "code",
   "execution_count": 3,
   "metadata": {},
   "outputs": [],
   "source": [
    "# time complexity is O(N^2),it will raise TLE\n",
    "# we have optimize it"
   ]
  },
  {
   "cell_type": "code",
   "execution_count": null,
   "metadata": {},
   "outputs": [],
   "source": [
    "### I solve this on leetcode and it got accepted\n",
    "from sortedcontainers import SortedList\n",
    "\n",
    "def self_smaller_right(nums):\n",
    "    sortlist = SortedList([])\n",
    "    result = []\n",
    "    for i in range(len(nums)-1,-1,-1): # O(N)\n",
    "        num = nums[i]\n",
    "        idx = sortlist.bisect_left(num)  # O(logN)\n",
    "        result.append(idx)\n",
    "        sortlist.add(num)   # O(logN)\n",
    "    return result[::-1]\n",
    "\n",
    "#TC : NlogN"
   ]
  },
  {
   "cell_type": "markdown",
   "metadata": {},
   "source": [
    "## Question 3\n",
    "Sort an Array\n",
    "\n",
    "<aside>\n",
    "💡 3. ****\n",
    "\n",
    "Given an array of integers `nums`, sort the array in ascending order and return it.\n",
    "\n",
    "You must solve the problem **without using any built-in** functions in `O(nlog(n))` time complexity and with the smallest space complexity possible.\n",
    "\n",
    "</aside>"
   ]
  },
  {
   "cell_type": "code",
   "execution_count": 27,
   "metadata": {},
   "outputs": [
    {
     "data": {
      "text/plain": [
       "[1, 2, 5, 6]"
      ]
     },
     "execution_count": 27,
     "metadata": {},
     "output_type": "execute_result"
    }
   ],
   "source": [
    "## merge_sort with nlogn complexity\n",
    "\n",
    "def merge_sort(arr):\n",
    "    if len(arr) ==  1:\n",
    "        return arr\n",
    "    # split it\n",
    "    mid = len(arr)//2\n",
    "    L = merge_sort(arr[:mid])\n",
    "    R = merge_sort(arr[mid:])\n",
    "    #print(L,R)\n",
    "    ## merge L and R\n",
    "    i = j = 0\n",
    "    temp = []\n",
    "    while i < len(L) and j < len(R):\n",
    "        if L[i]<= R[j]:\n",
    "            temp.append(L[i])\n",
    "            i += 1\n",
    "        else:\n",
    "            temp.append(R[j])\n",
    "            j += 1\n",
    "    while i < len(L):\n",
    "        temp.append(L[i])\n",
    "        i += 1\n",
    "    while j < len(R):\n",
    "        temp.append(R[j])\n",
    "        j += 1\n",
    "\n",
    "    return temp  \n",
    "\n",
    "    \n",
    "merge_sort([5,2,1,6])"
   ]
  },
  {
   "cell_type": "code",
   "execution_count": 28,
   "metadata": {},
   "outputs": [],
   "source": [
    "## TC for above code is Nlog(N)\n",
    "## but SC is O(N) for using temp and recursion stack"
   ]
  },
  {
   "cell_type": "code",
   "execution_count": 63,
   "metadata": {},
   "outputs": [],
   "source": [
    "### lets do it with quick sort algo\n",
    "\n",
    "def partition(arr,s,end):\n",
    "    ## lets make first element as pivot\n",
    "    e = arr[s]\n",
    "    ## count no. less than this e\n",
    "    count=0\n",
    "    for i in range(s,end+1):\n",
    "        if arr[i]< e:\n",
    "            count += 1\n",
    "    pivotidx = s + count       \n",
    "    ### swap \n",
    "    arr[s], arr[s+count] = arr[count+s],arr[s]\n",
    "    i = s\n",
    "    j = end\n",
    "    while i< pivotidx and j> pivotidx:\n",
    "        while arr[i] < e:\n",
    "            i += 1\n",
    "        while arr[j]> e:\n",
    "            j -= 1\n",
    "        if i< pivotidx and j> pivotidx:\n",
    "            arr[i],arr[j] = arr[j],arr[i]\n",
    "            i += 1\n",
    "            j -= 1\n",
    "       \n",
    "    \n",
    "    ## return partition position for further sorting\n",
    "    return pivotidx\n",
    "\n",
    "def quicksort(arr,s,e):\n",
    "\n",
    "    if s>= e:\n",
    "        return\n",
    "    \n",
    "    ### partition point = p \n",
    "    p = partition(arr,s,e)\n",
    "    #print(p)\n",
    "    quicksort(arr,s,p-1)\n",
    "    quicksort(arr,p+1,e)"
   ]
  },
  {
   "cell_type": "code",
   "execution_count": 64,
   "metadata": {},
   "outputs": [
    {
     "data": {
      "text/plain": [
       "[1, 3, 4, 4, 5, 5, 6, 6, 7, 8, 12, 34, 83]"
      ]
     },
     "execution_count": 64,
     "metadata": {},
     "output_type": "execute_result"
    }
   ],
   "source": [
    "a = [83,5,4,3,6,7,8,6,5,1,4,34,12]\n",
    "quicksort(a,0,len(a)-1)\n",
    "a"
   ]
  },
  {
   "cell_type": "code",
   "execution_count": 65,
   "metadata": {},
   "outputs": [],
   "source": [
    "# TC : Nlog(N), SC : O(N) but better then merge sort"
   ]
  },
  {
   "cell_type": "markdown",
   "metadata": {},
   "source": [
    "### Question 4\n",
    "Move all zeroes to end of array\n",
    "<aside>\n",
    "💡 4. ****\n",
    "\n",
    "</aside>"
   ]
  },
  {
   "cell_type": "markdown",
   "metadata": {},
   "source": [
    "Given an array of random numbers, Push all the zero’s of a given array to the end of the array.\n",
    "For example, if the given arrays is {1, 9, 8, 4, 0, 0, 2, 7, 0, 6, 0},\n",
    "it should be changed to {1, 9, 8, 4, 2, 7, 6, 0, 0, 0, 0}. The order of all other elements should be same.\n",
    "Expected time complexity is O(n) and extra space is O(1)."
   ]
  },
  {
   "cell_type": "code",
   "execution_count": 72,
   "metadata": {},
   "outputs": [
    {
     "data": {
      "text/plain": [
       "[1, 9, 8, 4, 2, 7, 6, 0, 0, 0, 0]"
      ]
     },
     "execution_count": 72,
     "metadata": {},
     "output_type": "execute_result"
    }
   ],
   "source": [
    "def move_all_zero_to_left(arr):\n",
    "    i = 0\n",
    "    j = 1\n",
    "    \n",
    "    while j < len(arr):\n",
    "        if arr[i]==0 and arr[j] != 0:\n",
    "            #swap it\n",
    "            arr[i],arr[j] = arr[j],arr[i]\n",
    "            \n",
    "        if arr[i] != 0:\n",
    "            i += 1\n",
    "        j += 1\n",
    "    return arr\n",
    "\n",
    "move_all_zero_to_left([1,9, 8, 4, 0, 0, 2, 7, 0, 6, 0])"
   ]
  },
  {
   "cell_type": "markdown",
   "metadata": {},
   "source": [
    "### question 5 \n",
    "Rearrange array in alternating positive & negative items with O(1) extra space\n",
    "<aside>\n",
    "💡 ****\n",
    "\n",
    "Given an **array of positive** and **negative numbers**, arrange them in an **alternate** fashion such that every positive number is followed by a negative and vice-versa maintaining the **order of appearance**. The number of positive and negative numbers need not be equal. If there are more positive numbers they appear at the end of the array. If there are more negative numbers, they too appear at the end of the array.\n",
    "\n",
    "</aside>"
   ]
  },
  {
   "cell_type": "code",
   "execution_count": 77,
   "metadata": {},
   "outputs": [
    {
     "data": {
      "text/plain": [
       "[-5, 5, -2, 2, -8, 4, 7, 1, 8, 0]"
      ]
     },
     "execution_count": 77,
     "metadata": {},
     "output_type": "execute_result"
    }
   ],
   "source": [
    "## brute force,for understanding\n",
    "\n",
    "def alternate_positive(arr):\n",
    "    pos=[]\n",
    "    neg =[]\n",
    "    for e in arr:\n",
    "        if e >= 0:\n",
    "            pos.append(e)\n",
    "        else:\n",
    "            neg.append(e)\n",
    "#     negidx = 2i + 0\n",
    "#     posidx = 2i + 1\n",
    "    #print(pos,neg)\n",
    "    i = j = k=  0\n",
    "    while i < len(neg) and j < len(pos):\n",
    "        arr[2*i] = neg[i]\n",
    "        i += 1\n",
    "        arr[2*j +1] = pos[j]\n",
    "        j += 1\n",
    "        k += 2\n",
    "        \n",
    "    while i < len(neg):\n",
    "        arr[k] = neg[i]\n",
    "        k += 1\n",
    "        i += 1\n",
    "    while j < len(pos):\n",
    "        arr[k] = pos[j]\n",
    "        j += 1\n",
    "        k += 1\n",
    "    return arr\n",
    "alternate_positive([-5, -2, 5, 2, 4, 7, 1, 8, 0, -8])\n",
    "    "
   ]
  },
  {
   "cell_type": "code",
   "execution_count": 85,
   "metadata": {},
   "outputs": [
    {
     "data": {
      "text/plain": [
       "[-5, -2, -8, 5, 2, 4, 7, 1, 8, 0]"
      ]
     },
     "execution_count": 85,
     "metadata": {},
     "output_type": "execute_result"
    }
   ],
   "source": [
    "def rotate_by_one(arr,s,e):\n",
    "    temp = arr[e]\n",
    "    for i in range(e,s-1,-1):\n",
    "        arr[i] = arr[i-1]\n",
    "    arr[s] = temp\n",
    "\n",
    "\n",
    "def neg_pos(arr):\n",
    "    i = 0\n",
    "    j = 1\n",
    "    \n",
    "    while j < len(arr):\n",
    "        if arr[i]>=0 and arr[j]< 0:\n",
    "            rotate_by_one(arr,i,j)\n",
    "            i += 2\n",
    "            j += 2\n",
    "        while arr[i]< 0 and i < j:\n",
    "            i += 2\n",
    "        j += 2\n",
    "    return arr\n",
    "neg_pos([-5, -2, 5, 2, 4, 7, 1, 8, 0, -8])\n",
    "\n",
    "### invested lots of time but coudnt solve it ;( need help."
   ]
  },
  {
   "cell_type": "markdown",
   "metadata": {},
   "source": [
    "### Question 6\n",
    "Merge two sorted arrays\n"
   ]
  },
  {
   "cell_type": "markdown",
   "metadata": {},
   "source": [
    "Input: arr1[] = { 1, 3, 4, 5}, arr2[] = {2, 4, 6, 8} \n",
    "Output: arr3[] = {1, 2, 3, 4, 4, 5, 6, 8}\n",
    "\n",
    "Input: arr1[] = { 5, 8, 9}, arr2[] = {4, 7, 8}\n",
    "Output: arr3[] = {4, 5, 7, 8, 8, 9}"
   ]
  },
  {
   "cell_type": "code",
   "execution_count": 88,
   "metadata": {},
   "outputs": [
    {
     "name": "stdout",
     "output_type": "stream",
     "text": [
      "[1, 2, 3, 4, 4, 5, 6, 8]\n"
     ]
    }
   ],
   "source": [
    "def merge_two_sorted_arry(arr1,arr2):\n",
    "    temp= []\n",
    "    i = j = 0\n",
    "    \n",
    "    while i < len(arr1) and j < len(arr2):\n",
    "        if arr1[i] < arr2[j]:\n",
    "            temp.append(arr1[i])\n",
    "            i += 1\n",
    "        else:\n",
    "            temp.append(arr2[j])\n",
    "            j += 1\n",
    "    while i < len(arr1):\n",
    "        temp.append(arr1[i])\n",
    "        i += 1\n",
    "    while j < len(arr2):\n",
    "        temp.append(arr2[j])\n",
    "        j += 1\n",
    "    return temp\n",
    "\n",
    "print(merge_two_sorted_arry([ 1, 3, 4, 5],[2, 4, 6, 8]))"
   ]
  },
  {
   "cell_type": "markdown",
   "metadata": {},
   "source": [
    "###  Question 7\n",
    " Intersection of Two Arrays"
   ]
  },
  {
   "cell_type": "markdown",
   "metadata": {},
   "source": [
    "Given two integer arrays nums1 and nums2, return an array of their intersection. Each element in the result must be unique and you may return the result in any order."
   ]
  },
  {
   "cell_type": "code",
   "execution_count": 89,
   "metadata": {},
   "outputs": [
    {
     "data": {
      "text/plain": [
       "{3}"
      ]
     },
     "execution_count": 89,
     "metadata": {},
     "output_type": "execute_result"
    }
   ],
   "source": [
    "#brute force python\n",
    "def intersection(arr1,arr2):\n",
    "    s1 = set(arr1)\n",
    "    s2 = set(arr2)\n",
    "    return s1.intersection(s2)\n",
    "\n",
    "intersection([1,2,3],[3,4])"
   ]
  },
  {
   "cell_type": "code",
   "execution_count": 90,
   "metadata": {},
   "outputs": [
    {
     "data": {
      "text/plain": [
       "{2, 3}"
      ]
     },
     "execution_count": 90,
     "metadata": {},
     "output_type": "execute_result"
    }
   ],
   "source": [
    "## by logic\n",
    "def intersection(arr1,arr2):\n",
    "    temp = set()\n",
    "    for e in arr1:\n",
    "        ## using linear search, \n",
    "        if e in arr2:\n",
    "            temp.add(e)\n",
    "    return temp\n",
    "\n",
    "intersection([1,2,3,3],[3,2,5])"
   ]
  },
  {
   "cell_type": "markdown",
   "metadata": {},
   "source": [
    "### Question 8\n",
    "8. Intersection of Two Arrays II\n",
    "Given two integer arrays nums1 and nums2, return an array of their intersection. Each element in the result must appear as many times as it shows in both arrays and you may return the result in any order."
   ]
  },
  {
   "cell_type": "code",
   "execution_count": 93,
   "metadata": {},
   "outputs": [
    {
     "data": {
      "text/plain": [
       "[2, 3, 3]"
      ]
     },
     "execution_count": 93,
     "metadata": {},
     "output_type": "execute_result"
    }
   ],
   "source": [
    "def intersection(arr1,arr2):\n",
    "    temp = list()\n",
    "    for e in arr1:\n",
    "        ## using linear search, \n",
    "        if e in arr2:\n",
    "            temp.append(e)\n",
    "    return temp\n",
    "\n",
    "intersection([1,2,3,3],[3,2,5])\n"
   ]
  },
  {
   "cell_type": "code",
   "execution_count": null,
   "metadata": {},
   "outputs": [],
   "source": []
  }
 ],
 "metadata": {
  "kernelspec": {
   "display_name": "Python 3",
   "language": "python",
   "name": "python3"
  },
  "language_info": {
   "codemirror_mode": {
    "name": "ipython",
    "version": 3
   },
   "file_extension": ".py",
   "mimetype": "text/x-python",
   "name": "python",
   "nbconvert_exporter": "python",
   "pygments_lexer": "ipython3",
   "version": "3.7.9"
  }
 },
 "nbformat": 4,
 "nbformat_minor": 4
}
