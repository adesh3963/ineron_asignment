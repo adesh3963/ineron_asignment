{
 "cells": [
  {
   "cell_type": "markdown",
   "metadata": {},
   "source": [
    "<aside>\n",
    "💡 **Question 1**\n",
    "\n",
    "Given a non-negative integer `x`, return *the square root of* `x` *rounded down to the nearest integer*. The returned integer should be **non-negative** as well.\n",
    "\n",
    "You **must not use** any built-in exponent function or operator.\n",
    "\n",
    "- For example, do not use `pow(x, 0.5)` in c++ or `x ** 0.5` in python\n",
    "</aside>"
   ]
  },
  {
   "cell_type": "code",
   "execution_count": 56,
   "metadata": {},
   "outputs": [
    {
     "data": {
      "text/plain": [
       "4"
      ]
     },
     "execution_count": 56,
     "metadata": {},
     "output_type": "execute_result"
    }
   ],
   "source": [
    "def find_the_nearest_square_root(n):\n",
    "    low = 1\n",
    "    high = n\n",
    "    while high - low >= 0.01:\n",
    "        mid = (high + low)/2\n",
    "        if mid * mid == n:\n",
    "            return mid\n",
    "        if mid * mid > n:\n",
    "            high= mid\n",
    "        else:\n",
    "            low = mid\n",
    "    return round((high+low)/2)\n",
    "\n",
    "find_the_nearest_square_root(15)"
   ]
  },
  {
   "cell_type": "code",
   "execution_count": null,
   "metadata": {},
   "outputs": [],
   "source": []
  },
  {
   "cell_type": "markdown",
   "metadata": {},
   "source": [
    "<aside>\n",
    "💡 **Question 2**\n",
    "\n",
    "A peak element is an element that is strictly greater than its neighbors.\n",
    "\n",
    "Given a **0-indexed** integer array `nums`, find a peak element, and return its index. If the array contains multiple peaks, return the index to **any of the peaks**.\n",
    "\n",
    "You may imagine that `nums[-1] = nums[n] = -∞`. In other words, an element is always considered to be strictly greater than a neighbor that is outside the array.\n",
    "\n",
    "You must write an algorithm that runs in `O(log n)` time.\n",
    "\n",
    "</aside>"
   ]
  },
  {
   "cell_type": "code",
   "execution_count": 65,
   "metadata": {},
   "outputs": [
    {
     "data": {
      "text/plain": [
       "5"
      ]
     },
     "execution_count": 65,
     "metadata": {},
     "output_type": "execute_result"
    }
   ],
   "source": [
    "nums = [1, 2, 1, 3, 5, 6, 4]\n",
    "\n",
    "\n",
    "def peak_elemenet(lis):\n",
    "    low= 0\n",
    "    high = len(lis)-1\n",
    "    while low <= high:\n",
    "        mid = low + (high-low)//2\n",
    "        if mid> 0 and mid < len(lis)-1:\n",
    "            if lis[mid]> lis[mid-1] and lis[mid]>lis[mid+1]:\n",
    "                return mid\n",
    "            elif lis[mid] > lis[mid-1]:\n",
    "                low = mid + 1\n",
    "            else:\n",
    "                high = mid-1\n",
    "        elif mid == 0:\n",
    "            if lis[mid]>lis[mid+1]:\n",
    "                return mid\n",
    "        elif mid == len(lis)-1:\n",
    "            if lis[mid]> lis[mid-1]:\n",
    "                return mid\n",
    "    else:\n",
    "        return -1\n",
    "peak_elemenet(nums)"
   ]
  },
  {
   "cell_type": "markdown",
   "metadata": {},
   "source": [
    "<aside>\n",
    "💡 **Question 3**\n",
    "\n",
    "****\n",
    "\n",
    "Given an array `nums` containing `n` distinct numbers in the range `[0, n]`, return *the only number in the range that is missing from the array.*\n",
    "\n",
    "</aside>"
   ]
  },
  {
   "cell_type": "code",
   "execution_count": 66,
   "metadata": {},
   "outputs": [
    {
     "data": {
      "text/plain": [
       "3"
      ]
     },
     "execution_count": 66,
     "metadata": {},
     "output_type": "execute_result"
    }
   ],
   "source": [
    "def missingNumber(nums):\n",
    "    nums.sort()  # Sort the array\n",
    "    \n",
    "    left, right = 0, len(nums)\n",
    "    \n",
    "    while left < right:\n",
    "        mid = (left + right) // 2\n",
    "        \n",
    "        if nums[mid] > mid:\n",
    "            right = mid\n",
    "        else:\n",
    "            left = mid + 1\n",
    "    \n",
    "    return left\n",
    "\n",
    "missingNumber([0,2,4,1])"
   ]
  },
  {
   "cell_type": "markdown",
   "metadata": {},
   "source": [
    "<aside>\n",
    "💡 **Question 4**\n",
    "\n",
    "Given an array of integers `nums` containing `n + 1` integers where each integer is in the range `[1, n]` inclusive.\n",
    "\n",
    "There is only **one repeated number** in `nums`, return *this repeated number*.\n",
    "\n",
    "You must solve the problem **without** modifying the array `nums` and uses only constant extra space.\n",
    "\n",
    "**Example 1:**\n",
    "\n",
    "</aside>"
   ]
  },
  {
   "cell_type": "code",
   "execution_count": 68,
   "metadata": {},
   "outputs": [
    {
     "data": {
      "text/plain": [
       "2"
      ]
     },
     "execution_count": 68,
     "metadata": {},
     "output_type": "execute_result"
    }
   ],
   "source": [
    "## brute force\n",
    "def find_repeated_number(lis):\n",
    "    lis.sort()\n",
    "    i = 1\n",
    "    j = 0\n",
    "    while i <len(lis):\n",
    "        if lis[i]==lis[j]:\n",
    "            return lis[i]\n",
    "        i +=1\n",
    "        j+=1\n",
    "    else:\n",
    "        return -1\n",
    "find_repeated_number([1,2,3,4,2])"
   ]
  },
  {
   "cell_type": "markdown",
   "metadata": {},
   "source": [
    "1 2 2 3 4 5 "
   ]
  },
  {
   "cell_type": "code",
   "execution_count": 72,
   "metadata": {},
   "outputs": [
    {
     "data": {
      "text/plain": [
       "2"
      ]
     },
     "execution_count": 72,
     "metadata": {},
     "output_type": "execute_result"
    }
   ],
   "source": [
    "## lets use binary search\n",
    "\n",
    "def findDuplicate(nums):\n",
    "    nums.sort()\n",
    "    left = 1\n",
    "    right = len(nums) - 1\n",
    "    \n",
    "    while left < right:\n",
    "        mid = (left + right) // 2\n",
    "        \n",
    "        count = 0\n",
    "        for num in nums:\n",
    "            if num <= mid:\n",
    "                count += 1\n",
    "        \n",
    "        \n",
    "        if count > mid:\n",
    "            right = mid\n",
    "        else:\n",
    "            left = mid + 1\n",
    "    \n",
    "    return left\n",
    "\n",
    "nums = [1, 3, 4, 2, 2]\n",
    "findDuplicate(nums)\n",
    "\n"
   ]
  },
  {
   "cell_type": "code",
   "execution_count": null,
   "metadata": {},
   "outputs": [],
   "source": []
  },
  {
   "cell_type": "markdown",
   "metadata": {},
   "source": [
    "<aside>\n",
    "💡 **Question 5**\n",
    "\n",
    "Given two integer arrays `nums1` and `nums2`, return *an array of their intersection*. Each element in the result must be **unique** and you may return the result in **any order**.\n",
    "\n",
    "</aside>"
   ]
  },
  {
   "cell_type": "code",
   "execution_count": 79,
   "metadata": {},
   "outputs": [
    {
     "data": {
      "text/plain": [
       "[2]"
      ]
     },
     "execution_count": 79,
     "metadata": {},
     "output_type": "execute_result"
    }
   ],
   "source": [
    "def intersection(num1,num2):\n",
    "    intersectionlist  = []\n",
    "    num2.sort()\n",
    "    def binary_search(nums,ele):\n",
    "        left = 0\n",
    "        right = len(nums)-1\n",
    "        while left <= right:\n",
    "            mid = (left + right)//2\n",
    "            if nums[mid] == ele:\n",
    "                return True\n",
    "            if nums[mid]< ele:\n",
    "                left = mid + 1\n",
    "            else:\n",
    "                right = mid -1\n",
    "        else:\n",
    "            return False\n",
    "    for e in num1:\n",
    "        if e not in intersectionlist:\n",
    "            if binary_search(num2,e):\n",
    "                intersectionlist.append(e)\n",
    "    return intersectionlist\n",
    "\n",
    "intersection([1,2,2,1],[2,2])\n",
    "            "
   ]
  },
  {
   "cell_type": "code",
   "execution_count": null,
   "metadata": {},
   "outputs": [],
   "source": []
  },
  {
   "cell_type": "markdown",
   "metadata": {},
   "source": [
    "<aside>\n",
    "💡 **Question 6**\n",
    "\n",
    "Suppose an array of length `n` sorted in ascending order is **rotated** between `1` and `n` times. For example, the array `nums = [0,1,2,4,5,6,7]` might become:\n",
    "\n",
    "- `[4,5,6,7,0,1,2]` if it was rotated `4` times.\n",
    "- `[0,1,2,4,5,6,7]` if it was rotated `7` times.\n",
    "\n",
    "Notice that **rotating** an array `[a[0], a[1], a[2], ..., a[n-1]]` 1 time results in the array `[a[n-1], a[0], a[1], a[2], ..., a[n-2]]`.\n",
    "\n",
    "Given the sorted rotated array `nums` of **unique** elements, return *the minimum element of this array*.\n",
    "\n",
    "You must write an algorithm that runs in `O(log n) time.`\n",
    "\n",
    "</aside>"
   ]
  },
  {
   "cell_type": "code",
   "execution_count": 81,
   "metadata": {},
   "outputs": [
    {
     "name": "stdout",
     "output_type": "stream",
     "text": [
      "0\n",
      "0\n"
     ]
    }
   ],
   "source": [
    "def find_min(nums):\n",
    "    #if nums is rotated\n",
    "    for i in range(len(nums)-1):\n",
    "        if nums[i] > nums[i+1]:\n",
    "            return nums[i+1]\n",
    "    else:\n",
    "        return nums[0]\n",
    "    \n",
    "print(find_min([4,5,6,7,0,1,2]))\n",
    "print(find_min([0,1,2,4,5,6,7]))"
   ]
  },
  {
   "cell_type": "code",
   "execution_count": 82,
   "metadata": {},
   "outputs": [
    {
     "name": "stdout",
     "output_type": "stream",
     "text": [
      "0\n",
      "0\n"
     ]
    }
   ],
   "source": [
    "def findMin(nums):\n",
    "    left = 0\n",
    "    right = len(nums) - 1\n",
    "\n",
    "    while left < right:\n",
    "        mid = left + (right - left) // 2\n",
    "\n",
    "        if nums[mid] > nums[right]:\n",
    "            left = mid + 1\n",
    "        else:\n",
    "            right = mid\n",
    "\n",
    "    return nums[left]\n",
    "\n",
    "\n",
    "nums = [4, 5, 6, 7, 0, 1, 2]\n",
    "print(findMin(nums)) \n",
    "\n",
    "nums = [0, 1, 2, 4, 5, 6, 7]\n",
    "print(findMin(nums)) \n"
   ]
  },
  {
   "cell_type": "code",
   "execution_count": null,
   "metadata": {},
   "outputs": [],
   "source": []
  },
  {
   "cell_type": "markdown",
   "metadata": {},
   "source": [
    "<aside>\n",
    "💡 **Question 7**\n",
    "\n",
    "Given an array of integers `nums` sorted in non-decreasing order, find the starting and ending position of a given `target` value.\n",
    "\n",
    "If `target` is not found in the array, return `[-1, -1]`.\n",
    "\n",
    "You must write an algorithm with `O(log n)` runtime complexity.\n",
    "\n",
    "</aside>"
   ]
  },
  {
   "cell_type": "code",
   "execution_count": 87,
   "metadata": {},
   "outputs": [
    {
     "data": {
      "text/plain": [
       "[-1, -1]"
      ]
     },
     "execution_count": 87,
     "metadata": {},
     "output_type": "execute_result"
    }
   ],
   "source": [
    "def find_indexes(nums,ele):\n",
    "    left = 0\n",
    "    right = len(nums)-1\n",
    "    idxs = []\n",
    "    while left <= right:\n",
    "        mid = (left + right)//2\n",
    "        if nums[mid] == ele:\n",
    "            \n",
    "            #since we found the element we will check left and right od it\n",
    "            for i in range(mid-1,left,-1):\n",
    "                print(i)\n",
    "                if nums[i]== ele:\n",
    "                    idxs.append(i)\n",
    "                else:\n",
    "                    break\n",
    "            \n",
    "            for i in range(mid+1,right):\n",
    "                if nums[i]== ele:\n",
    "                    idxs.append(i)\n",
    "                else:\n",
    "                    break\n",
    "            break\n",
    "                    \n",
    "        if nums[mid]< ele:\n",
    "            left = mid + 1\n",
    "        else:\n",
    "            right = mid -1\n",
    "    return idxs if len(idxs)!=0 else [-1,-1]\n",
    "\n",
    "\n",
    "find_indexes([5,7,7,8,8,10],8)"
   ]
  },
  {
   "cell_type": "code",
   "execution_count": null,
   "metadata": {},
   "outputs": [],
   "source": []
  },
  {
   "cell_type": "markdown",
   "metadata": {},
   "source": [
    "<aside>\n",
    "💡 **Question 8**\n",
    "\n",
    "Given two integer arrays `nums1` and `nums2`, return *an array of their intersection*. Each element in the result must appear as many times as it shows in both arrays and you may return the result in **any order**.\n",
    "\n",
    "</aside>"
   ]
  },
  {
   "cell_type": "code",
   "execution_count": 88,
   "metadata": {},
   "outputs": [
    {
     "data": {
      "text/plain": [
       "[2, 2]"
      ]
     },
     "execution_count": 88,
     "metadata": {},
     "output_type": "execute_result"
    }
   ],
   "source": [
    "def intersection(num1,num2):\n",
    "    intersectionlist  = []\n",
    "    num2.sort()\n",
    "    def binary_search(nums,ele):\n",
    "        left = 0\n",
    "        right = len(nums)-1\n",
    "        while left <= right:\n",
    "            mid = (left + right)//2\n",
    "            if nums[mid] == ele:\n",
    "                return True\n",
    "            if nums[mid]< ele:\n",
    "                left = mid + 1\n",
    "            else:\n",
    "                right = mid -1\n",
    "        else:\n",
    "            return False\n",
    "    for e in num1:\n",
    "        if binary_search(num2,e):\n",
    "            intersectionlist.append(e)\n",
    "    return intersectionlist\n",
    "\n",
    "intersection([1,2,2,1],[2,2])"
   ]
  },
  {
   "cell_type": "code",
   "execution_count": null,
   "metadata": {},
   "outputs": [],
   "source": []
  }
 ],
 "metadata": {
  "kernelspec": {
   "display_name": "Python 3",
   "language": "python",
   "name": "python3"
  },
  "language_info": {
   "codemirror_mode": {
    "name": "ipython",
    "version": 3
   },
   "file_extension": ".py",
   "mimetype": "text/x-python",
   "name": "python",
   "nbconvert_exporter": "python",
   "pygments_lexer": "ipython3",
   "version": "3.7.9"
  }
 },
 "nbformat": 4,
 "nbformat_minor": 4
}
